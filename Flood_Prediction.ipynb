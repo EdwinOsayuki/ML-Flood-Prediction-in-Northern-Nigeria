{
 "cells": [
  {
   "cell_type": "markdown",
   "metadata": {},
   "source": [
    "# Flood Prediction Machine Learning Model "
   ]
  },
  {
   "cell_type": "code",
   "execution_count": 1,
   "metadata": {
    "tags": []
   },
   "outputs": [],
   "source": [
    "# This Machine Learning Model uses 5 Machine Learning Algorithms namely KNN Classification, Logistic Regression[LR], Support \n",
    "# Vector[SVM], Decision Tree[DT] and Random Forest[RF] to get the best possible model to predict the floods using Kerela Rainfall Data."
   ]
  },
  {
   "cell_type": "code",
   "execution_count": 3,
   "metadata": {
    "tags": []
   },
   "outputs": [
    {
     "name": "stdout",
     "output_type": "stream",
     "text": [
      "['.ipynb_checkpoints', 'download.png', 'Flood_Prediction.ipynb', 'kerala.csv', 'LICENSE', 'README.md']\n"
     ]
    }
   ],
   "source": [
    "# It will list the files in the input directory.\n",
    "import os\n",
    "print(os.listdir(\"../Flood-Prediction-Model-master/\"))  # Name of the project Directory"
   ]
  },
  {
   "cell_type": "code",
   "execution_count": 5,
   "metadata": {
    "tags": []
   },
   "outputs": [],
   "source": [
    "# Ignoring Warnings.\n",
    "import warnings\n",
    "warnings.filterwarnings('ignore')"
   ]
  },
  {
   "cell_type": "code",
   "execution_count": 7,
   "metadata": {
    "scrolled": true,
    "tags": []
   },
   "outputs": [
    {
     "data": {
      "text/plain": [
       "'C:\\\\Users\\\\EO\\\\DataAnalysis\\\\climate\\\\Flood-Prediction-Model-master'"
      ]
     },
     "execution_count": 7,
     "metadata": {},
     "output_type": "execute_result"
    }
   ],
   "source": [
    "# Directory where our Dataset is stored for processing in the ML Model.\n",
    "os.chdir(r'C:\\Users\\EO\\DataAnalysis\\climate\\Flood-Prediction-Model-master') # Path of our Project Folder\n",
    "os.getcwd()"
   ]
  },
  {
   "cell_type": "markdown",
   "metadata": {},
   "source": [
    "## Data Insights"
   ]
  },
  {
   "cell_type": "markdown",
   "metadata": {},
   "source": [
    "#### Importing Required Libraries."
   ]
  },
  {
   "cell_type": "code",
   "execution_count": 10,
   "metadata": {
    "tags": []
   },
   "outputs": [
    {
     "name": "stdout",
     "output_type": "stream",
     "text": [
      "     SUBDIVISION  YEAR   JAN   FEB   MAR    APR    MAY     JUN     JUL  \\\n",
      "0     Gida'Kwano  1901  28.7  44.7  51.6  160.0  174.7   824.6   743.0   \n",
      "1     Gida'Kwano  1902   6.7   2.6  57.3   83.9  134.5   390.9  1205.0   \n",
      "2     Gida'Kwano  1903   3.2  18.6   3.1   83.6  249.7   558.6  1022.5   \n",
      "3     Gida'Kwano  1904  23.7   3.0  32.2   71.5  235.7  1098.2   725.5   \n",
      "4     Gida'Kwano  1905   1.2  22.3   9.4  105.9  263.3   850.2   520.5   \n",
      "..           ...   ...   ...   ...   ...    ...    ...     ...     ...   \n",
      "113   Gida'Kwano  2014   4.6  10.3  17.9   95.7  251.0   454.4   677.8   \n",
      "114   Gida'Kwano  2015   3.1   5.8  50.1  214.1  201.8   563.6   406.0   \n",
      "115   Gida'Kwano  2016   2.4   3.8  35.9  143.0  186.4   522.2   412.3   \n",
      "116  Gida'Kwano   2017   1.9   6.8   8.9   43.6  173.5   498.5   319.6   \n",
      "117   Gida'Kwano  2018  29.1  52.1  48.6  116.4  183.8   625.4  1048.5   \n",
      "\n",
      "        AUG    SEP    OCT    NOV    DEC   ANNUAL RAINFALL FLOODS  \n",
      "0     357.5  197.7  266.9  350.8   48.4            3248.6    YES  \n",
      "1     315.8  491.6  358.4  158.3  121.5            3326.6    YES  \n",
      "2     420.2  341.8  354.1  157.0   59.0            3271.2    YES  \n",
      "3     351.8  222.7  328.1   33.9    3.3            3129.7    YES  \n",
      "4     293.6  217.2  383.5   74.4    0.2            2741.6     NO  \n",
      "..      ...    ...    ...    ...    ...               ...    ...  \n",
      "113   733.9  298.8  355.5   99.5   47.2            3046.4    YES  \n",
      "114   252.2  292.9  308.1  223.6   79.4            2600.6     NO  \n",
      "115   325.5  173.2  225.9  125.4   23.6            2176.6     NO  \n",
      "116   531.8  209.5  192.4   92.5   38.1            2117.1     NO  \n",
      "117  1398.9  423.6  356.1  125.4   65.1            4473.0    YES  \n",
      "\n",
      "[118 rows x 16 columns]\n"
     ]
    }
   ],
   "source": [
    "import numpy as np # linear algebra\n",
    "import pandas as pd # data processing, CSV file I/O (e.g. pd.read_csv)\n",
    "data = pd.read_csv('GidaKwano.csv')\n",
    "print(data)"
   ]
  },
  {
   "cell_type": "code",
   "execution_count": 12,
   "metadata": {
    "scrolled": true,
    "tags": []
   },
   "outputs": [
    {
     "data": {
      "text/html": [
       "<div>\n",
       "<style scoped>\n",
       "    .dataframe tbody tr th:only-of-type {\n",
       "        vertical-align: middle;\n",
       "    }\n",
       "\n",
       "    .dataframe tbody tr th {\n",
       "        vertical-align: top;\n",
       "    }\n",
       "\n",
       "    .dataframe thead th {\n",
       "        text-align: right;\n",
       "    }\n",
       "</style>\n",
       "<table border=\"1\" class=\"dataframe\">\n",
       "  <thead>\n",
       "    <tr style=\"text-align: right;\">\n",
       "      <th></th>\n",
       "      <th>SUBDIVISION</th>\n",
       "      <th>YEAR</th>\n",
       "      <th>JAN</th>\n",
       "      <th>FEB</th>\n",
       "      <th>MAR</th>\n",
       "      <th>APR</th>\n",
       "      <th>MAY</th>\n",
       "      <th>JUN</th>\n",
       "      <th>JUL</th>\n",
       "      <th>AUG</th>\n",
       "      <th>SEP</th>\n",
       "      <th>OCT</th>\n",
       "      <th>NOV</th>\n",
       "      <th>DEC</th>\n",
       "      <th>ANNUAL RAINFALL</th>\n",
       "      <th>FLOODS</th>\n",
       "    </tr>\n",
       "  </thead>\n",
       "  <tbody>\n",
       "    <tr>\n",
       "      <th>0</th>\n",
       "      <td>Gida'Kwano</td>\n",
       "      <td>1901</td>\n",
       "      <td>28.7</td>\n",
       "      <td>44.7</td>\n",
       "      <td>51.6</td>\n",
       "      <td>160.0</td>\n",
       "      <td>174.7</td>\n",
       "      <td>824.6</td>\n",
       "      <td>743.0</td>\n",
       "      <td>357.5</td>\n",
       "      <td>197.7</td>\n",
       "      <td>266.9</td>\n",
       "      <td>350.8</td>\n",
       "      <td>48.4</td>\n",
       "      <td>3248.6</td>\n",
       "      <td>YES</td>\n",
       "    </tr>\n",
       "    <tr>\n",
       "      <th>1</th>\n",
       "      <td>Gida'Kwano</td>\n",
       "      <td>1902</td>\n",
       "      <td>6.7</td>\n",
       "      <td>2.6</td>\n",
       "      <td>57.3</td>\n",
       "      <td>83.9</td>\n",
       "      <td>134.5</td>\n",
       "      <td>390.9</td>\n",
       "      <td>1205.0</td>\n",
       "      <td>315.8</td>\n",
       "      <td>491.6</td>\n",
       "      <td>358.4</td>\n",
       "      <td>158.3</td>\n",
       "      <td>121.5</td>\n",
       "      <td>3326.6</td>\n",
       "      <td>YES</td>\n",
       "    </tr>\n",
       "    <tr>\n",
       "      <th>2</th>\n",
       "      <td>Gida'Kwano</td>\n",
       "      <td>1903</td>\n",
       "      <td>3.2</td>\n",
       "      <td>18.6</td>\n",
       "      <td>3.1</td>\n",
       "      <td>83.6</td>\n",
       "      <td>249.7</td>\n",
       "      <td>558.6</td>\n",
       "      <td>1022.5</td>\n",
       "      <td>420.2</td>\n",
       "      <td>341.8</td>\n",
       "      <td>354.1</td>\n",
       "      <td>157.0</td>\n",
       "      <td>59.0</td>\n",
       "      <td>3271.2</td>\n",
       "      <td>YES</td>\n",
       "    </tr>\n",
       "    <tr>\n",
       "      <th>3</th>\n",
       "      <td>Gida'Kwano</td>\n",
       "      <td>1904</td>\n",
       "      <td>23.7</td>\n",
       "      <td>3.0</td>\n",
       "      <td>32.2</td>\n",
       "      <td>71.5</td>\n",
       "      <td>235.7</td>\n",
       "      <td>1098.2</td>\n",
       "      <td>725.5</td>\n",
       "      <td>351.8</td>\n",
       "      <td>222.7</td>\n",
       "      <td>328.1</td>\n",
       "      <td>33.9</td>\n",
       "      <td>3.3</td>\n",
       "      <td>3129.7</td>\n",
       "      <td>YES</td>\n",
       "    </tr>\n",
       "    <tr>\n",
       "      <th>4</th>\n",
       "      <td>Gida'Kwano</td>\n",
       "      <td>1905</td>\n",
       "      <td>1.2</td>\n",
       "      <td>22.3</td>\n",
       "      <td>9.4</td>\n",
       "      <td>105.9</td>\n",
       "      <td>263.3</td>\n",
       "      <td>850.2</td>\n",
       "      <td>520.5</td>\n",
       "      <td>293.6</td>\n",
       "      <td>217.2</td>\n",
       "      <td>383.5</td>\n",
       "      <td>74.4</td>\n",
       "      <td>0.2</td>\n",
       "      <td>2741.6</td>\n",
       "      <td>NO</td>\n",
       "    </tr>\n",
       "  </tbody>\n",
       "</table>\n",
       "</div>"
      ],
      "text/plain": [
       "  SUBDIVISION  YEAR   JAN   FEB   MAR    APR    MAY     JUN     JUL    AUG  \\\n",
       "0  Gida'Kwano  1901  28.7  44.7  51.6  160.0  174.7   824.6   743.0  357.5   \n",
       "1  Gida'Kwano  1902   6.7   2.6  57.3   83.9  134.5   390.9  1205.0  315.8   \n",
       "2  Gida'Kwano  1903   3.2  18.6   3.1   83.6  249.7   558.6  1022.5  420.2   \n",
       "3  Gida'Kwano  1904  23.7   3.0  32.2   71.5  235.7  1098.2   725.5  351.8   \n",
       "4  Gida'Kwano  1905   1.2  22.3   9.4  105.9  263.3   850.2   520.5  293.6   \n",
       "\n",
       "     SEP    OCT    NOV    DEC   ANNUAL RAINFALL FLOODS  \n",
       "0  197.7  266.9  350.8   48.4            3248.6    YES  \n",
       "1  491.6  358.4  158.3  121.5            3326.6    YES  \n",
       "2  341.8  354.1  157.0   59.0            3271.2    YES  \n",
       "3  222.7  328.1   33.9    3.3            3129.7    YES  \n",
       "4  217.2  383.5   74.4    0.2            2741.6     NO  "
      ]
     },
     "execution_count": 12,
     "metadata": {},
     "output_type": "execute_result"
    }
   ],
   "source": [
    "data.head()"
   ]
  },
  {
   "cell_type": "code",
   "execution_count": 14,
   "metadata": {
    "scrolled": true,
    "tags": []
   },
   "outputs": [
    {
     "data": {
      "text/html": [
       "<div>\n",
       "<style scoped>\n",
       "    .dataframe tbody tr th:only-of-type {\n",
       "        vertical-align: middle;\n",
       "    }\n",
       "\n",
       "    .dataframe tbody tr th {\n",
       "        vertical-align: top;\n",
       "    }\n",
       "\n",
       "    .dataframe thead th {\n",
       "        text-align: right;\n",
       "    }\n",
       "</style>\n",
       "<table border=\"1\" class=\"dataframe\">\n",
       "  <thead>\n",
       "    <tr style=\"text-align: right;\">\n",
       "      <th></th>\n",
       "      <th>SUBDIVISION</th>\n",
       "      <th>YEAR</th>\n",
       "      <th>JAN</th>\n",
       "      <th>FEB</th>\n",
       "      <th>MAR</th>\n",
       "      <th>APR</th>\n",
       "      <th>MAY</th>\n",
       "      <th>JUN</th>\n",
       "      <th>JUL</th>\n",
       "      <th>AUG</th>\n",
       "      <th>SEP</th>\n",
       "      <th>OCT</th>\n",
       "      <th>NOV</th>\n",
       "      <th>DEC</th>\n",
       "      <th>ANNUAL RAINFALL</th>\n",
       "      <th>FLOODS</th>\n",
       "    </tr>\n",
       "  </thead>\n",
       "  <tbody>\n",
       "    <tr>\n",
       "      <th>113</th>\n",
       "      <td>Gida'Kwano</td>\n",
       "      <td>2014</td>\n",
       "      <td>4.6</td>\n",
       "      <td>10.3</td>\n",
       "      <td>17.9</td>\n",
       "      <td>95.7</td>\n",
       "      <td>251.0</td>\n",
       "      <td>454.4</td>\n",
       "      <td>677.8</td>\n",
       "      <td>733.9</td>\n",
       "      <td>298.8</td>\n",
       "      <td>355.5</td>\n",
       "      <td>99.5</td>\n",
       "      <td>47.2</td>\n",
       "      <td>3046.4</td>\n",
       "      <td>YES</td>\n",
       "    </tr>\n",
       "    <tr>\n",
       "      <th>114</th>\n",
       "      <td>Gida'Kwano</td>\n",
       "      <td>2015</td>\n",
       "      <td>3.1</td>\n",
       "      <td>5.8</td>\n",
       "      <td>50.1</td>\n",
       "      <td>214.1</td>\n",
       "      <td>201.8</td>\n",
       "      <td>563.6</td>\n",
       "      <td>406.0</td>\n",
       "      <td>252.2</td>\n",
       "      <td>292.9</td>\n",
       "      <td>308.1</td>\n",
       "      <td>223.6</td>\n",
       "      <td>79.4</td>\n",
       "      <td>2600.6</td>\n",
       "      <td>NO</td>\n",
       "    </tr>\n",
       "    <tr>\n",
       "      <th>115</th>\n",
       "      <td>Gida'Kwano</td>\n",
       "      <td>2016</td>\n",
       "      <td>2.4</td>\n",
       "      <td>3.8</td>\n",
       "      <td>35.9</td>\n",
       "      <td>143.0</td>\n",
       "      <td>186.4</td>\n",
       "      <td>522.2</td>\n",
       "      <td>412.3</td>\n",
       "      <td>325.5</td>\n",
       "      <td>173.2</td>\n",
       "      <td>225.9</td>\n",
       "      <td>125.4</td>\n",
       "      <td>23.6</td>\n",
       "      <td>2176.6</td>\n",
       "      <td>NO</td>\n",
       "    </tr>\n",
       "    <tr>\n",
       "      <th>116</th>\n",
       "      <td>Gida'Kwano</td>\n",
       "      <td>2017</td>\n",
       "      <td>1.9</td>\n",
       "      <td>6.8</td>\n",
       "      <td>8.9</td>\n",
       "      <td>43.6</td>\n",
       "      <td>173.5</td>\n",
       "      <td>498.5</td>\n",
       "      <td>319.6</td>\n",
       "      <td>531.8</td>\n",
       "      <td>209.5</td>\n",
       "      <td>192.4</td>\n",
       "      <td>92.5</td>\n",
       "      <td>38.1</td>\n",
       "      <td>2117.1</td>\n",
       "      <td>NO</td>\n",
       "    </tr>\n",
       "    <tr>\n",
       "      <th>117</th>\n",
       "      <td>Gida'Kwano</td>\n",
       "      <td>2018</td>\n",
       "      <td>29.1</td>\n",
       "      <td>52.1</td>\n",
       "      <td>48.6</td>\n",
       "      <td>116.4</td>\n",
       "      <td>183.8</td>\n",
       "      <td>625.4</td>\n",
       "      <td>1048.5</td>\n",
       "      <td>1398.9</td>\n",
       "      <td>423.6</td>\n",
       "      <td>356.1</td>\n",
       "      <td>125.4</td>\n",
       "      <td>65.1</td>\n",
       "      <td>4473.0</td>\n",
       "      <td>YES</td>\n",
       "    </tr>\n",
       "  </tbody>\n",
       "</table>\n",
       "</div>"
      ],
      "text/plain": [
       "     SUBDIVISION  YEAR   JAN   FEB   MAR    APR    MAY    JUN     JUL     AUG  \\\n",
       "113   Gida'Kwano  2014   4.6  10.3  17.9   95.7  251.0  454.4   677.8   733.9   \n",
       "114   Gida'Kwano  2015   3.1   5.8  50.1  214.1  201.8  563.6   406.0   252.2   \n",
       "115   Gida'Kwano  2016   2.4   3.8  35.9  143.0  186.4  522.2   412.3   325.5   \n",
       "116  Gida'Kwano   2017   1.9   6.8   8.9   43.6  173.5  498.5   319.6   531.8   \n",
       "117   Gida'Kwano  2018  29.1  52.1  48.6  116.4  183.8  625.4  1048.5  1398.9   \n",
       "\n",
       "       SEP    OCT    NOV   DEC   ANNUAL RAINFALL FLOODS  \n",
       "113  298.8  355.5   99.5  47.2            3046.4    YES  \n",
       "114  292.9  308.1  223.6  79.4            2600.6     NO  \n",
       "115  173.2  225.9  125.4  23.6            2176.6     NO  \n",
       "116  209.5  192.4   92.5  38.1            2117.1     NO  \n",
       "117  423.6  356.1  125.4  65.1            4473.0    YES  "
      ]
     },
     "execution_count": 14,
     "metadata": {},
     "output_type": "execute_result"
    }
   ],
   "source": [
    "data.tail()"
   ]
  },
  {
   "cell_type": "markdown",
   "metadata": {},
   "source": [
    "# Finding number of missing values"
   ]
  },
  {
   "cell_type": "code",
   "execution_count": 17,
   "metadata": {
    "tags": []
   },
   "outputs": [
    {
     "data": {
      "text/plain": [
       "SUBDIVISION         0\n",
       "YEAR                0\n",
       "JAN                 0\n",
       "FEB                 0\n",
       "MAR                 0\n",
       "APR                 0\n",
       "MAY                 0\n",
       "JUN                 0\n",
       "JUL                 0\n",
       "AUG                 0\n",
       "SEP                 0\n",
       "OCT                 0\n",
       "NOV                 0\n",
       "DEC                 0\n",
       " ANNUAL RAINFALL    0\n",
       "FLOODS              0\n",
       "dtype: int64"
      ]
     },
     "execution_count": 17,
     "metadata": {},
     "output_type": "execute_result"
    }
   ],
   "source": [
    "data.isnull().sum()  # cheaking if any colomns is left empty or not."
   ]
  },
  {
   "cell_type": "markdown",
   "metadata": {},
   "source": [
    "# Analyzing the Dataset"
   ]
  },
  {
   "cell_type": "code",
   "execution_count": 20,
   "metadata": {
    "tags": []
   },
   "outputs": [
    {
     "name": "stdout",
     "output_type": "stream",
     "text": [
      "(118, 16)\n"
     ]
    }
   ],
   "source": [
    "print(data.shape)"
   ]
  },
  {
   "cell_type": "code",
   "execution_count": 22,
   "metadata": {
    "tags": []
   },
   "outputs": [
    {
     "data": {
      "text/html": [
       "<div>\n",
       "<style scoped>\n",
       "    .dataframe tbody tr th:only-of-type {\n",
       "        vertical-align: middle;\n",
       "    }\n",
       "\n",
       "    .dataframe tbody tr th {\n",
       "        vertical-align: top;\n",
       "    }\n",
       "\n",
       "    .dataframe thead th {\n",
       "        text-align: right;\n",
       "    }\n",
       "</style>\n",
       "<table border=\"1\" class=\"dataframe\">\n",
       "  <thead>\n",
       "    <tr style=\"text-align: right;\">\n",
       "      <th></th>\n",
       "      <th>YEAR</th>\n",
       "      <th>JAN</th>\n",
       "      <th>FEB</th>\n",
       "      <th>MAR</th>\n",
       "      <th>APR</th>\n",
       "      <th>MAY</th>\n",
       "      <th>JUN</th>\n",
       "      <th>JUL</th>\n",
       "      <th>AUG</th>\n",
       "      <th>SEP</th>\n",
       "      <th>OCT</th>\n",
       "      <th>NOV</th>\n",
       "      <th>DEC</th>\n",
       "      <th>ANNUAL RAINFALL</th>\n",
       "    </tr>\n",
       "  </thead>\n",
       "  <tbody>\n",
       "    <tr>\n",
       "      <th>count</th>\n",
       "      <td>118.000000</td>\n",
       "      <td>118.000000</td>\n",
       "      <td>118.000000</td>\n",
       "      <td>118.000000</td>\n",
       "      <td>118.000000</td>\n",
       "      <td>118.000000</td>\n",
       "      <td>118.000000</td>\n",
       "      <td>118.000000</td>\n",
       "      <td>118.000000</td>\n",
       "      <td>118.000000</td>\n",
       "      <td>118.000000</td>\n",
       "      <td>118.000000</td>\n",
       "      <td>118.000000</td>\n",
       "      <td>118.000000</td>\n",
       "    </tr>\n",
       "    <tr>\n",
       "      <th>mean</th>\n",
       "      <td>1959.500000</td>\n",
       "      <td>12.218644</td>\n",
       "      <td>15.633898</td>\n",
       "      <td>36.670339</td>\n",
       "      <td>110.330508</td>\n",
       "      <td>228.644915</td>\n",
       "      <td>651.617797</td>\n",
       "      <td>698.220339</td>\n",
       "      <td>430.369492</td>\n",
       "      <td>246.207627</td>\n",
       "      <td>293.207627</td>\n",
       "      <td>162.311017</td>\n",
       "      <td>40.009322</td>\n",
       "      <td>2925.405085</td>\n",
       "    </tr>\n",
       "    <tr>\n",
       "      <th>std</th>\n",
       "      <td>34.207699</td>\n",
       "      <td>15.473766</td>\n",
       "      <td>16.406290</td>\n",
       "      <td>30.063862</td>\n",
       "      <td>44.633452</td>\n",
       "      <td>147.548778</td>\n",
       "      <td>186.181363</td>\n",
       "      <td>228.988966</td>\n",
       "      <td>181.980463</td>\n",
       "      <td>121.901131</td>\n",
       "      <td>93.705253</td>\n",
       "      <td>83.200485</td>\n",
       "      <td>36.676330</td>\n",
       "      <td>452.169407</td>\n",
       "    </tr>\n",
       "    <tr>\n",
       "      <th>min</th>\n",
       "      <td>1901.000000</td>\n",
       "      <td>0.000000</td>\n",
       "      <td>0.000000</td>\n",
       "      <td>0.100000</td>\n",
       "      <td>13.100000</td>\n",
       "      <td>53.400000</td>\n",
       "      <td>196.800000</td>\n",
       "      <td>167.500000</td>\n",
       "      <td>178.600000</td>\n",
       "      <td>41.300000</td>\n",
       "      <td>68.500000</td>\n",
       "      <td>31.500000</td>\n",
       "      <td>0.100000</td>\n",
       "      <td>2068.800000</td>\n",
       "    </tr>\n",
       "    <tr>\n",
       "      <th>25%</th>\n",
       "      <td>1930.250000</td>\n",
       "      <td>2.175000</td>\n",
       "      <td>4.700000</td>\n",
       "      <td>18.100000</td>\n",
       "      <td>74.350000</td>\n",
       "      <td>125.050000</td>\n",
       "      <td>535.550000</td>\n",
       "      <td>533.200000</td>\n",
       "      <td>316.725000</td>\n",
       "      <td>155.425000</td>\n",
       "      <td>222.125000</td>\n",
       "      <td>93.025000</td>\n",
       "      <td>10.350000</td>\n",
       "      <td>2613.525000</td>\n",
       "    </tr>\n",
       "    <tr>\n",
       "      <th>50%</th>\n",
       "      <td>1959.500000</td>\n",
       "      <td>5.800000</td>\n",
       "      <td>8.350000</td>\n",
       "      <td>28.400000</td>\n",
       "      <td>110.400000</td>\n",
       "      <td>184.600000</td>\n",
       "      <td>625.600000</td>\n",
       "      <td>691.650000</td>\n",
       "      <td>386.250000</td>\n",
       "      <td>223.550000</td>\n",
       "      <td>284.300000</td>\n",
       "      <td>152.450000</td>\n",
       "      <td>31.100000</td>\n",
       "      <td>2934.300000</td>\n",
       "    </tr>\n",
       "    <tr>\n",
       "      <th>75%</th>\n",
       "      <td>1988.750000</td>\n",
       "      <td>18.175000</td>\n",
       "      <td>21.400000</td>\n",
       "      <td>49.825000</td>\n",
       "      <td>136.450000</td>\n",
       "      <td>264.875000</td>\n",
       "      <td>786.975000</td>\n",
       "      <td>832.425000</td>\n",
       "      <td>500.100000</td>\n",
       "      <td>334.500000</td>\n",
       "      <td>355.150000</td>\n",
       "      <td>218.325000</td>\n",
       "      <td>54.025000</td>\n",
       "      <td>3170.400000</td>\n",
       "    </tr>\n",
       "    <tr>\n",
       "      <th>max</th>\n",
       "      <td>2018.000000</td>\n",
       "      <td>83.500000</td>\n",
       "      <td>79.000000</td>\n",
       "      <td>217.200000</td>\n",
       "      <td>238.000000</td>\n",
       "      <td>738.800000</td>\n",
       "      <td>1098.200000</td>\n",
       "      <td>1526.500000</td>\n",
       "      <td>1398.900000</td>\n",
       "      <td>526.700000</td>\n",
       "      <td>567.900000</td>\n",
       "      <td>365.600000</td>\n",
       "      <td>202.300000</td>\n",
       "      <td>4473.000000</td>\n",
       "    </tr>\n",
       "  </tbody>\n",
       "</table>\n",
       "</div>"
      ],
      "text/plain": [
       "              YEAR         JAN         FEB         MAR         APR  \\\n",
       "count   118.000000  118.000000  118.000000  118.000000  118.000000   \n",
       "mean   1959.500000   12.218644   15.633898   36.670339  110.330508   \n",
       "std      34.207699   15.473766   16.406290   30.063862   44.633452   \n",
       "min    1901.000000    0.000000    0.000000    0.100000   13.100000   \n",
       "25%    1930.250000    2.175000    4.700000   18.100000   74.350000   \n",
       "50%    1959.500000    5.800000    8.350000   28.400000  110.400000   \n",
       "75%    1988.750000   18.175000   21.400000   49.825000  136.450000   \n",
       "max    2018.000000   83.500000   79.000000  217.200000  238.000000   \n",
       "\n",
       "              MAY          JUN          JUL          AUG         SEP  \\\n",
       "count  118.000000   118.000000   118.000000   118.000000  118.000000   \n",
       "mean   228.644915   651.617797   698.220339   430.369492  246.207627   \n",
       "std    147.548778   186.181363   228.988966   181.980463  121.901131   \n",
       "min     53.400000   196.800000   167.500000   178.600000   41.300000   \n",
       "25%    125.050000   535.550000   533.200000   316.725000  155.425000   \n",
       "50%    184.600000   625.600000   691.650000   386.250000  223.550000   \n",
       "75%    264.875000   786.975000   832.425000   500.100000  334.500000   \n",
       "max    738.800000  1098.200000  1526.500000  1398.900000  526.700000   \n",
       "\n",
       "              OCT         NOV         DEC   ANNUAL RAINFALL  \n",
       "count  118.000000  118.000000  118.000000        118.000000  \n",
       "mean   293.207627  162.311017   40.009322       2925.405085  \n",
       "std     93.705253   83.200485   36.676330        452.169407  \n",
       "min     68.500000   31.500000    0.100000       2068.800000  \n",
       "25%    222.125000   93.025000   10.350000       2613.525000  \n",
       "50%    284.300000  152.450000   31.100000       2934.300000  \n",
       "75%    355.150000  218.325000   54.025000       3170.400000  \n",
       "max    567.900000  365.600000  202.300000       4473.000000  "
      ]
     },
     "execution_count": 22,
     "metadata": {},
     "output_type": "execute_result"
    }
   ],
   "source": [
    "data.describe()"
   ]
  },
  {
   "cell_type": "code",
   "execution_count": 71,
   "metadata": {
    "tags": []
   },
   "outputs": [],
   "source": [
    "num = data[['YEAR', 'JAN', 'FEB', 'MAR', 'APR', 'MAY', 'JUN', 'JUL',\n",
    "       'AUG', 'SEP', 'OCT', 'NOV', 'DEC', ' ANNUAL RAINFALL']]"
   ]
  },
  {
   "cell_type": "code",
   "execution_count": 24,
   "metadata": {
    "tags": []
   },
   "outputs": [
    {
     "data": {
      "text/plain": [
       "<bound method DataFrame.info of      SUBDIVISION  YEAR   JAN   FEB   MAR    APR    MAY     JUN     JUL  \\\n",
       "0     Gida'Kwano  1901  28.7  44.7  51.6  160.0  174.7   824.6   743.0   \n",
       "1     Gida'Kwano  1902   6.7   2.6  57.3   83.9  134.5   390.9  1205.0   \n",
       "2     Gida'Kwano  1903   3.2  18.6   3.1   83.6  249.7   558.6  1022.5   \n",
       "3     Gida'Kwano  1904  23.7   3.0  32.2   71.5  235.7  1098.2   725.5   \n",
       "4     Gida'Kwano  1905   1.2  22.3   9.4  105.9  263.3   850.2   520.5   \n",
       "..           ...   ...   ...   ...   ...    ...    ...     ...     ...   \n",
       "113   Gida'Kwano  2014   4.6  10.3  17.9   95.7  251.0   454.4   677.8   \n",
       "114   Gida'Kwano  2015   3.1   5.8  50.1  214.1  201.8   563.6   406.0   \n",
       "115   Gida'Kwano  2016   2.4   3.8  35.9  143.0  186.4   522.2   412.3   \n",
       "116  Gida'Kwano   2017   1.9   6.8   8.9   43.6  173.5   498.5   319.6   \n",
       "117   Gida'Kwano  2018  29.1  52.1  48.6  116.4  183.8   625.4  1048.5   \n",
       "\n",
       "        AUG    SEP    OCT    NOV    DEC   ANNUAL RAINFALL FLOODS  \n",
       "0     357.5  197.7  266.9  350.8   48.4            3248.6    YES  \n",
       "1     315.8  491.6  358.4  158.3  121.5            3326.6    YES  \n",
       "2     420.2  341.8  354.1  157.0   59.0            3271.2    YES  \n",
       "3     351.8  222.7  328.1   33.9    3.3            3129.7    YES  \n",
       "4     293.6  217.2  383.5   74.4    0.2            2741.6     NO  \n",
       "..      ...    ...    ...    ...    ...               ...    ...  \n",
       "113   733.9  298.8  355.5   99.5   47.2            3046.4    YES  \n",
       "114   252.2  292.9  308.1  223.6   79.4            2600.6     NO  \n",
       "115   325.5  173.2  225.9  125.4   23.6            2176.6     NO  \n",
       "116   531.8  209.5  192.4   92.5   38.1            2117.1     NO  \n",
       "117  1398.9  423.6  356.1  125.4   65.1            4473.0    YES  \n",
       "\n",
       "[118 rows x 16 columns]>"
      ]
     },
     "execution_count": 24,
     "metadata": {},
     "output_type": "execute_result"
    }
   ],
   "source": [
    "data.info"
   ]
  },
  {
   "cell_type": "code",
   "execution_count": 73,
   "metadata": {
    "tags": []
   },
   "outputs": [
    {
     "data": {
      "text/html": [
       "<div>\n",
       "<style scoped>\n",
       "    .dataframe tbody tr th:only-of-type {\n",
       "        vertical-align: middle;\n",
       "    }\n",
       "\n",
       "    .dataframe tbody tr th {\n",
       "        vertical-align: top;\n",
       "    }\n",
       "\n",
       "    .dataframe thead th {\n",
       "        text-align: right;\n",
       "    }\n",
       "</style>\n",
       "<table border=\"1\" class=\"dataframe\">\n",
       "  <thead>\n",
       "    <tr style=\"text-align: right;\">\n",
       "      <th></th>\n",
       "      <th>YEAR</th>\n",
       "      <th>JAN</th>\n",
       "      <th>FEB</th>\n",
       "      <th>MAR</th>\n",
       "      <th>APR</th>\n",
       "      <th>MAY</th>\n",
       "      <th>JUN</th>\n",
       "      <th>JUL</th>\n",
       "      <th>AUG</th>\n",
       "      <th>SEP</th>\n",
       "      <th>OCT</th>\n",
       "      <th>NOV</th>\n",
       "      <th>DEC</th>\n",
       "      <th>ANNUAL RAINFALL</th>\n",
       "    </tr>\n",
       "  </thead>\n",
       "  <tbody>\n",
       "    <tr>\n",
       "      <th>YEAR</th>\n",
       "      <td>1170.166667</td>\n",
       "      <td>-119.378632</td>\n",
       "      <td>2.176923</td>\n",
       "      <td>-13.207265</td>\n",
       "      <td>132.625641</td>\n",
       "      <td>-301.126068</td>\n",
       "      <td>-1114.149145</td>\n",
       "      <td>-1749.953846</td>\n",
       "      <td>274.983761</td>\n",
       "      <td>448.915812</td>\n",
       "      <td>-96.876496</td>\n",
       "      <td>-370.360256</td>\n",
       "      <td>-155.123504</td>\n",
       "      <td>-3063.344444</td>\n",
       "    </tr>\n",
       "    <tr>\n",
       "      <th>JAN</th>\n",
       "      <td>-119.378632</td>\n",
       "      <td>239.437427</td>\n",
       "      <td>4.979192</td>\n",
       "      <td>36.577053</td>\n",
       "      <td>24.039512</td>\n",
       "      <td>163.062403</td>\n",
       "      <td>545.574281</td>\n",
       "      <td>121.970900</td>\n",
       "      <td>24.434163</td>\n",
       "      <td>-214.094844</td>\n",
       "      <td>-50.812451</td>\n",
       "      <td>-14.205421</td>\n",
       "      <td>-50.968209</td>\n",
       "      <td>830.154092</td>\n",
       "    </tr>\n",
       "    <tr>\n",
       "      <th>FEB</th>\n",
       "      <td>2.176923</td>\n",
       "      <td>4.979192</td>\n",
       "      <td>269.166362</td>\n",
       "      <td>121.027766</td>\n",
       "      <td>90.585966</td>\n",
       "      <td>-202.129655</td>\n",
       "      <td>165.293580</td>\n",
       "      <td>21.748364</td>\n",
       "      <td>69.442838</td>\n",
       "      <td>132.629654</td>\n",
       "      <td>81.684355</td>\n",
       "      <td>-222.332684</td>\n",
       "      <td>-76.434079</td>\n",
       "      <td>455.913330</td>\n",
       "    </tr>\n",
       "    <tr>\n",
       "      <th>MAR</th>\n",
       "      <td>-13.207265</td>\n",
       "      <td>36.577053</td>\n",
       "      <td>121.027766</td>\n",
       "      <td>903.835779</td>\n",
       "      <td>99.315784</td>\n",
       "      <td>-456.721990</td>\n",
       "      <td>106.348567</td>\n",
       "      <td>126.186249</td>\n",
       "      <td>232.033874</td>\n",
       "      <td>527.184758</td>\n",
       "      <td>-64.980285</td>\n",
       "      <td>-81.573089</td>\n",
       "      <td>28.990108</td>\n",
       "      <td>1578.305793</td>\n",
       "    </tr>\n",
       "    <tr>\n",
       "      <th>APR</th>\n",
       "      <td>132.625641</td>\n",
       "      <td>24.039512</td>\n",
       "      <td>90.585966</td>\n",
       "      <td>99.315784</td>\n",
       "      <td>1992.145044</td>\n",
       "      <td>-754.490185</td>\n",
       "      <td>606.540393</td>\n",
       "      <td>153.070058</td>\n",
       "      <td>-388.591540</td>\n",
       "      <td>70.336859</td>\n",
       "      <td>473.330962</td>\n",
       "      <td>82.464276</td>\n",
       "      <td>-180.710372</td>\n",
       "      <td>2267.590185</td>\n",
       "    </tr>\n",
       "    <tr>\n",
       "      <th>MAY</th>\n",
       "      <td>-301.126068</td>\n",
       "      <td>163.062403</td>\n",
       "      <td>-202.129655</td>\n",
       "      <td>-456.721990</td>\n",
       "      <td>-754.490185</td>\n",
       "      <td>21770.641812</td>\n",
       "      <td>33.929279</td>\n",
       "      <td>-1571.703571</td>\n",
       "      <td>-3340.586652</td>\n",
       "      <td>2101.892304</td>\n",
       "      <td>2725.149056</td>\n",
       "      <td>1165.417193</td>\n",
       "      <td>-638.978371</td>\n",
       "      <td>20997.420795</td>\n",
       "    </tr>\n",
       "    <tr>\n",
       "      <th>JUN</th>\n",
       "      <td>-1114.149145</td>\n",
       "      <td>545.574281</td>\n",
       "      <td>165.293580</td>\n",
       "      <td>106.348567</td>\n",
       "      <td>606.540393</td>\n",
       "      <td>33.929279</td>\n",
       "      <td>34663.499937</td>\n",
       "      <td>4047.567071</td>\n",
       "      <td>-492.944239</td>\n",
       "      <td>-1194.576633</td>\n",
       "      <td>20.161145</td>\n",
       "      <td>247.329460</td>\n",
       "      <td>-581.699654</td>\n",
       "      <td>38170.332986</td>\n",
       "    </tr>\n",
       "    <tr>\n",
       "      <th>JUL</th>\n",
       "      <td>-1749.953846</td>\n",
       "      <td>121.970900</td>\n",
       "      <td>21.748364</td>\n",
       "      <td>126.186249</td>\n",
       "      <td>153.070058</td>\n",
       "      <td>-1571.703571</td>\n",
       "      <td>4047.567071</td>\n",
       "      <td>52435.946420</td>\n",
       "      <td>6436.876865</td>\n",
       "      <td>5846.347194</td>\n",
       "      <td>541.214459</td>\n",
       "      <td>-543.479371</td>\n",
       "      <td>-113.988396</td>\n",
       "      <td>67508.201520</td>\n",
       "    </tr>\n",
       "    <tr>\n",
       "      <th>AUG</th>\n",
       "      <td>274.983761</td>\n",
       "      <td>24.434163</td>\n",
       "      <td>69.442838</td>\n",
       "      <td>232.033874</td>\n",
       "      <td>-388.591540</td>\n",
       "      <td>-3340.586652</td>\n",
       "      <td>-492.944239</td>\n",
       "      <td>6436.876865</td>\n",
       "      <td>33116.888805</td>\n",
       "      <td>2178.762799</td>\n",
       "      <td>-3094.959423</td>\n",
       "      <td>-1706.808293</td>\n",
       "      <td>948.365073</td>\n",
       "      <td>33987.052721</td>\n",
       "    </tr>\n",
       "    <tr>\n",
       "      <th>SEP</th>\n",
       "      <td>448.915812</td>\n",
       "      <td>-214.094844</td>\n",
       "      <td>132.629654</td>\n",
       "      <td>527.184758</td>\n",
       "      <td>70.336859</td>\n",
       "      <td>2101.892304</td>\n",
       "      <td>-1194.576633</td>\n",
       "      <td>5846.347194</td>\n",
       "      <td>2178.762799</td>\n",
       "      <td>14859.885839</td>\n",
       "      <td>-369.500828</td>\n",
       "      <td>-280.077350</td>\n",
       "      <td>-49.210243</td>\n",
       "      <td>23610.285602</td>\n",
       "    </tr>\n",
       "    <tr>\n",
       "      <th>OCT</th>\n",
       "      <td>-96.876496</td>\n",
       "      <td>-50.812451</td>\n",
       "      <td>81.684355</td>\n",
       "      <td>-64.980285</td>\n",
       "      <td>473.330962</td>\n",
       "      <td>2725.149056</td>\n",
       "      <td>20.161145</td>\n",
       "      <td>541.214459</td>\n",
       "      <td>-3094.959423</td>\n",
       "      <td>-369.500828</td>\n",
       "      <td>8780.674386</td>\n",
       "      <td>-187.580256</td>\n",
       "      <td>-134.262978</td>\n",
       "      <td>8722.467910</td>\n",
       "    </tr>\n",
       "    <tr>\n",
       "      <th>NOV</th>\n",
       "      <td>-370.360256</td>\n",
       "      <td>-14.205421</td>\n",
       "      <td>-222.332684</td>\n",
       "      <td>-81.573089</td>\n",
       "      <td>82.464276</td>\n",
       "      <td>1165.417193</td>\n",
       "      <td>247.329460</td>\n",
       "      <td>-543.479371</td>\n",
       "      <td>-1706.808293</td>\n",
       "      <td>-280.077350</td>\n",
       "      <td>-187.580256</td>\n",
       "      <td>6922.320647</td>\n",
       "      <td>215.801948</td>\n",
       "      <td>5597.319516</td>\n",
       "    </tr>\n",
       "    <tr>\n",
       "      <th>DEC</th>\n",
       "      <td>-155.123504</td>\n",
       "      <td>-50.968209</td>\n",
       "      <td>-76.434079</td>\n",
       "      <td>28.990108</td>\n",
       "      <td>-180.710372</td>\n",
       "      <td>-638.978371</td>\n",
       "      <td>-581.699654</td>\n",
       "      <td>-113.988396</td>\n",
       "      <td>948.365073</td>\n",
       "      <td>-49.210243</td>\n",
       "      <td>-134.262978</td>\n",
       "      <td>215.801948</td>\n",
       "      <td>1345.153160</td>\n",
       "      <td>712.560721</td>\n",
       "    </tr>\n",
       "    <tr>\n",
       "      <th>ANNUAL RAINFALL</th>\n",
       "      <td>-3063.344444</td>\n",
       "      <td>830.154092</td>\n",
       "      <td>455.913330</td>\n",
       "      <td>1578.305793</td>\n",
       "      <td>2267.590185</td>\n",
       "      <td>20997.420795</td>\n",
       "      <td>38170.332986</td>\n",
       "      <td>67508.201520</td>\n",
       "      <td>33987.052721</td>\n",
       "      <td>23610.285602</td>\n",
       "      <td>8722.467910</td>\n",
       "      <td>5597.319516</td>\n",
       "      <td>712.560721</td>\n",
       "      <td>204457.172453</td>\n",
       "    </tr>\n",
       "  </tbody>\n",
       "</table>\n",
       "</div>"
      ],
      "text/plain": [
       "                         YEAR         JAN         FEB          MAR  \\\n",
       "YEAR              1170.166667 -119.378632    2.176923   -13.207265   \n",
       "JAN               -119.378632  239.437427    4.979192    36.577053   \n",
       "FEB                  2.176923    4.979192  269.166362   121.027766   \n",
       "MAR                -13.207265   36.577053  121.027766   903.835779   \n",
       "APR                132.625641   24.039512   90.585966    99.315784   \n",
       "MAY               -301.126068  163.062403 -202.129655  -456.721990   \n",
       "JUN              -1114.149145  545.574281  165.293580   106.348567   \n",
       "JUL              -1749.953846  121.970900   21.748364   126.186249   \n",
       "AUG                274.983761   24.434163   69.442838   232.033874   \n",
       "SEP                448.915812 -214.094844  132.629654   527.184758   \n",
       "OCT                -96.876496  -50.812451   81.684355   -64.980285   \n",
       "NOV               -370.360256  -14.205421 -222.332684   -81.573089   \n",
       "DEC               -155.123504  -50.968209  -76.434079    28.990108   \n",
       " ANNUAL RAINFALL -3063.344444  830.154092  455.913330  1578.305793   \n",
       "\n",
       "                          APR           MAY           JUN           JUL  \\\n",
       "YEAR               132.625641   -301.126068  -1114.149145  -1749.953846   \n",
       "JAN                 24.039512    163.062403    545.574281    121.970900   \n",
       "FEB                 90.585966   -202.129655    165.293580     21.748364   \n",
       "MAR                 99.315784   -456.721990    106.348567    126.186249   \n",
       "APR               1992.145044   -754.490185    606.540393    153.070058   \n",
       "MAY               -754.490185  21770.641812     33.929279  -1571.703571   \n",
       "JUN                606.540393     33.929279  34663.499937   4047.567071   \n",
       "JUL                153.070058  -1571.703571   4047.567071  52435.946420   \n",
       "AUG               -388.591540  -3340.586652   -492.944239   6436.876865   \n",
       "SEP                 70.336859   2101.892304  -1194.576633   5846.347194   \n",
       "OCT                473.330962   2725.149056     20.161145    541.214459   \n",
       "NOV                 82.464276   1165.417193    247.329460   -543.479371   \n",
       "DEC               -180.710372   -638.978371   -581.699654   -113.988396   \n",
       " ANNUAL RAINFALL  2267.590185  20997.420795  38170.332986  67508.201520   \n",
       "\n",
       "                           AUG           SEP          OCT          NOV  \\\n",
       "YEAR                274.983761    448.915812   -96.876496  -370.360256   \n",
       "JAN                  24.434163   -214.094844   -50.812451   -14.205421   \n",
       "FEB                  69.442838    132.629654    81.684355  -222.332684   \n",
       "MAR                 232.033874    527.184758   -64.980285   -81.573089   \n",
       "APR                -388.591540     70.336859   473.330962    82.464276   \n",
       "MAY               -3340.586652   2101.892304  2725.149056  1165.417193   \n",
       "JUN                -492.944239  -1194.576633    20.161145   247.329460   \n",
       "JUL                6436.876865   5846.347194   541.214459  -543.479371   \n",
       "AUG               33116.888805   2178.762799 -3094.959423 -1706.808293   \n",
       "SEP                2178.762799  14859.885839  -369.500828  -280.077350   \n",
       "OCT               -3094.959423   -369.500828  8780.674386  -187.580256   \n",
       "NOV               -1706.808293   -280.077350  -187.580256  6922.320647   \n",
       "DEC                 948.365073    -49.210243  -134.262978   215.801948   \n",
       " ANNUAL RAINFALL  33987.052721  23610.285602  8722.467910  5597.319516   \n",
       "\n",
       "                          DEC   ANNUAL RAINFALL  \n",
       "YEAR              -155.123504      -3063.344444  \n",
       "JAN                -50.968209        830.154092  \n",
       "FEB                -76.434079        455.913330  \n",
       "MAR                 28.990108       1578.305793  \n",
       "APR               -180.710372       2267.590185  \n",
       "MAY               -638.978371      20997.420795  \n",
       "JUN               -581.699654      38170.332986  \n",
       "JUL               -113.988396      67508.201520  \n",
       "AUG                948.365073      33987.052721  \n",
       "SEP                -49.210243      23610.285602  \n",
       "OCT               -134.262978       8722.467910  \n",
       "NOV                215.801948       5597.319516  \n",
       "DEC               1345.153160        712.560721  \n",
       " ANNUAL RAINFALL   712.560721     204457.172453  "
      ]
     },
     "execution_count": 73,
     "metadata": {},
     "output_type": "execute_result"
    }
   ],
   "source": [
    "num.cov()"
   ]
  },
  {
   "cell_type": "code",
   "execution_count": 85,
   "metadata": {
    "tags": []
   },
   "outputs": [
    {
     "data": {
      "text/plain": [
       "<Axes: >"
      ]
     },
     "execution_count": 85,
     "metadata": {},
     "output_type": "execute_result"
    },
    {
     "data": {
      "image/png": "[encoded data removed]",
      "text/plain": [
       "<Figure size 800x800 with 2 Axes>"
      ]
     },
     "metadata": {},
     "output_type": "display_data"
    }
   ],
   "source": [
    "import seaborn as sns\n",
    "import matplotlib.pyplot as plt\n",
    "\n",
    "plt.figure(figsize=(10, 10), dpi=80)\n",
    "sns.heatmap(num.corr(), annot=True, fmt=\".1f\")"
   ]
  },
  {
   "cell_type": "code",
   "execution_count": 87,
   "metadata": {
    "tags": []
   },
   "outputs": [],
   "source": [
    "# replacing the yes/no in floods coloumn by 1/0\n",
    "data['FLOODS'].replace(['YES','NO'],[1,0],inplace=True)"
   ]
  },
  {
   "cell_type": "code",
   "execution_count": 89,
   "metadata": {
    "tags": []
   },
   "outputs": [
    {
     "data": {
      "text/html": [
       "<div>\n",
       "<style scoped>\n",
       "    .dataframe tbody tr th:only-of-type {\n",
       "        vertical-align: middle;\n",
       "    }\n",
       "\n",
       "    .dataframe tbody tr th {\n",
       "        vertical-align: top;\n",
       "    }\n",
       "\n",
       "    .dataframe thead th {\n",
       "        text-align: right;\n",
       "    }\n",
       "</style>\n",
       "<table border=\"1\" class=\"dataframe\">\n",
       "  <thead>\n",
       "    <tr style=\"text-align: right;\">\n",
       "      <th></th>\n",
       "      <th>SUBDIVISION</th>\n",
       "      <th>YEAR</th>\n",
       "      <th>JAN</th>\n",
       "      <th>FEB</th>\n",
       "      <th>MAR</th>\n",
       "      <th>APR</th>\n",
       "      <th>MAY</th>\n",
       "      <th>JUN</th>\n",
       "      <th>JUL</th>\n",
       "      <th>AUG</th>\n",
       "      <th>SEP</th>\n",
       "      <th>OCT</th>\n",
       "      <th>NOV</th>\n",
       "      <th>DEC</th>\n",
       "      <th>ANNUAL RAINFALL</th>\n",
       "      <th>FLOODS</th>\n",
       "    </tr>\n",
       "  </thead>\n",
       "  <tbody>\n",
       "    <tr>\n",
       "      <th>0</th>\n",
       "      <td>Gida'Kwano</td>\n",
       "      <td>1901</td>\n",
       "      <td>28.7</td>\n",
       "      <td>44.7</td>\n",
       "      <td>51.6</td>\n",
       "      <td>160.0</td>\n",
       "      <td>174.7</td>\n",
       "      <td>824.6</td>\n",
       "      <td>743.0</td>\n",
       "      <td>357.5</td>\n",
       "      <td>197.7</td>\n",
       "      <td>266.9</td>\n",
       "      <td>350.8</td>\n",
       "      <td>48.4</td>\n",
       "      <td>3248.6</td>\n",
       "      <td>1</td>\n",
       "    </tr>\n",
       "    <tr>\n",
       "      <th>1</th>\n",
       "      <td>Gida'Kwano</td>\n",
       "      <td>1902</td>\n",
       "      <td>6.7</td>\n",
       "      <td>2.6</td>\n",
       "      <td>57.3</td>\n",
       "      <td>83.9</td>\n",
       "      <td>134.5</td>\n",
       "      <td>390.9</td>\n",
       "      <td>1205.0</td>\n",
       "      <td>315.8</td>\n",
       "      <td>491.6</td>\n",
       "      <td>358.4</td>\n",
       "      <td>158.3</td>\n",
       "      <td>121.5</td>\n",
       "      <td>3326.6</td>\n",
       "      <td>1</td>\n",
       "    </tr>\n",
       "    <tr>\n",
       "      <th>2</th>\n",
       "      <td>Gida'Kwano</td>\n",
       "      <td>1903</td>\n",
       "      <td>3.2</td>\n",
       "      <td>18.6</td>\n",
       "      <td>3.1</td>\n",
       "      <td>83.6</td>\n",
       "      <td>249.7</td>\n",
       "      <td>558.6</td>\n",
       "      <td>1022.5</td>\n",
       "      <td>420.2</td>\n",
       "      <td>341.8</td>\n",
       "      <td>354.1</td>\n",
       "      <td>157.0</td>\n",
       "      <td>59.0</td>\n",
       "      <td>3271.2</td>\n",
       "      <td>1</td>\n",
       "    </tr>\n",
       "    <tr>\n",
       "      <th>3</th>\n",
       "      <td>Gida'Kwano</td>\n",
       "      <td>1904</td>\n",
       "      <td>23.7</td>\n",
       "      <td>3.0</td>\n",
       "      <td>32.2</td>\n",
       "      <td>71.5</td>\n",
       "      <td>235.7</td>\n",
       "      <td>1098.2</td>\n",
       "      <td>725.5</td>\n",
       "      <td>351.8</td>\n",
       "      <td>222.7</td>\n",
       "      <td>328.1</td>\n",
       "      <td>33.9</td>\n",
       "      <td>3.3</td>\n",
       "      <td>3129.7</td>\n",
       "      <td>1</td>\n",
       "    </tr>\n",
       "    <tr>\n",
       "      <th>4</th>\n",
       "      <td>Gida'Kwano</td>\n",
       "      <td>1905</td>\n",
       "      <td>1.2</td>\n",
       "      <td>22.3</td>\n",
       "      <td>9.4</td>\n",
       "      <td>105.9</td>\n",
       "      <td>263.3</td>\n",
       "      <td>850.2</td>\n",
       "      <td>520.5</td>\n",
       "      <td>293.6</td>\n",
       "      <td>217.2</td>\n",
       "      <td>383.5</td>\n",
       "      <td>74.4</td>\n",
       "      <td>0.2</td>\n",
       "      <td>2741.6</td>\n",
       "      <td>0</td>\n",
       "    </tr>\n",
       "  </tbody>\n",
       "</table>\n",
       "</div>"
      ],
      "text/plain": [
       "  SUBDIVISION  YEAR   JAN   FEB   MAR    APR    MAY     JUN     JUL    AUG  \\\n",
       "0  Gida'Kwano  1901  28.7  44.7  51.6  160.0  174.7   824.6   743.0  357.5   \n",
       "1  Gida'Kwano  1902   6.7   2.6  57.3   83.9  134.5   390.9  1205.0  315.8   \n",
       "2  Gida'Kwano  1903   3.2  18.6   3.1   83.6  249.7   558.6  1022.5  420.2   \n",
       "3  Gida'Kwano  1904  23.7   3.0  32.2   71.5  235.7  1098.2   725.5  351.8   \n",
       "4  Gida'Kwano  1905   1.2  22.3   9.4  105.9  263.3   850.2   520.5  293.6   \n",
       "\n",
       "     SEP    OCT    NOV    DEC   ANNUAL RAINFALL  FLOODS  \n",
       "0  197.7  266.9  350.8   48.4            3248.6       1  \n",
       "1  491.6  358.4  158.3  121.5            3326.6       1  \n",
       "2  341.8  354.1  157.0   59.0            3271.2       1  \n",
       "3  222.7  328.1   33.9    3.3            3129.7       1  \n",
       "4  217.2  383.5   74.4    0.2            2741.6       0  "
      ]
     },
     "execution_count": 89,
     "metadata": {},
     "output_type": "execute_result"
    }
   ],
   "source": [
    "#Printing the clean data\n",
    "data.head()"
   ]
  },
  {
   "cell_type": "code",
   "execution_count": 91,
   "metadata": {
    "tags": []
   },
   "outputs": [
    {
     "data": {
      "text/html": [
       "<div>\n",
       "<style scoped>\n",
       "    .dataframe tbody tr th:only-of-type {\n",
       "        vertical-align: middle;\n",
       "    }\n",
       "\n",
       "    .dataframe tbody tr th {\n",
       "        vertical-align: top;\n",
       "    }\n",
       "\n",
       "    .dataframe thead th {\n",
       "        text-align: right;\n",
       "    }\n",
       "</style>\n",
       "<table border=\"1\" class=\"dataframe\">\n",
       "  <thead>\n",
       "    <tr style=\"text-align: right;\">\n",
       "      <th></th>\n",
       "      <th>YEAR</th>\n",
       "      <th>JAN</th>\n",
       "      <th>FEB</th>\n",
       "      <th>MAR</th>\n",
       "      <th>APR</th>\n",
       "      <th>MAY</th>\n",
       "      <th>JUN</th>\n",
       "      <th>JUL</th>\n",
       "      <th>AUG</th>\n",
       "      <th>SEP</th>\n",
       "      <th>OCT</th>\n",
       "      <th>NOV</th>\n",
       "      <th>DEC</th>\n",
       "    </tr>\n",
       "  </thead>\n",
       "  <tbody>\n",
       "    <tr>\n",
       "      <th>0</th>\n",
       "      <td>1901</td>\n",
       "      <td>28.7</td>\n",
       "      <td>44.7</td>\n",
       "      <td>51.6</td>\n",
       "      <td>160.0</td>\n",
       "      <td>174.7</td>\n",
       "      <td>824.6</td>\n",
       "      <td>743.0</td>\n",
       "      <td>357.5</td>\n",
       "      <td>197.7</td>\n",
       "      <td>266.9</td>\n",
       "      <td>350.8</td>\n",
       "      <td>48.4</td>\n",
       "    </tr>\n",
       "    <tr>\n",
       "      <th>1</th>\n",
       "      <td>1902</td>\n",
       "      <td>6.7</td>\n",
       "      <td>2.6</td>\n",
       "      <td>57.3</td>\n",
       "      <td>83.9</td>\n",
       "      <td>134.5</td>\n",
       "      <td>390.9</td>\n",
       "      <td>1205.0</td>\n",
       "      <td>315.8</td>\n",
       "      <td>491.6</td>\n",
       "      <td>358.4</td>\n",
       "      <td>158.3</td>\n",
       "      <td>121.5</td>\n",
       "    </tr>\n",
       "    <tr>\n",
       "      <th>2</th>\n",
       "      <td>1903</td>\n",
       "      <td>3.2</td>\n",
       "      <td>18.6</td>\n",
       "      <td>3.1</td>\n",
       "      <td>83.6</td>\n",
       "      <td>249.7</td>\n",
       "      <td>558.6</td>\n",
       "      <td>1022.5</td>\n",
       "      <td>420.2</td>\n",
       "      <td>341.8</td>\n",
       "      <td>354.1</td>\n",
       "      <td>157.0</td>\n",
       "      <td>59.0</td>\n",
       "    </tr>\n",
       "    <tr>\n",
       "      <th>3</th>\n",
       "      <td>1904</td>\n",
       "      <td>23.7</td>\n",
       "      <td>3.0</td>\n",
       "      <td>32.2</td>\n",
       "      <td>71.5</td>\n",
       "      <td>235.7</td>\n",
       "      <td>1098.2</td>\n",
       "      <td>725.5</td>\n",
       "      <td>351.8</td>\n",
       "      <td>222.7</td>\n",
       "      <td>328.1</td>\n",
       "      <td>33.9</td>\n",
       "      <td>3.3</td>\n",
       "    </tr>\n",
       "    <tr>\n",
       "      <th>4</th>\n",
       "      <td>1905</td>\n",
       "      <td>1.2</td>\n",
       "      <td>22.3</td>\n",
       "      <td>9.4</td>\n",
       "      <td>105.9</td>\n",
       "      <td>263.3</td>\n",
       "      <td>850.2</td>\n",
       "      <td>520.5</td>\n",
       "      <td>293.6</td>\n",
       "      <td>217.2</td>\n",
       "      <td>383.5</td>\n",
       "      <td>74.4</td>\n",
       "      <td>0.2</td>\n",
       "    </tr>\n",
       "  </tbody>\n",
       "</table>\n",
       "</div>"
      ],
      "text/plain": [
       "   YEAR   JAN   FEB   MAR    APR    MAY     JUN     JUL    AUG    SEP    OCT  \\\n",
       "0  1901  28.7  44.7  51.6  160.0  174.7   824.6   743.0  357.5  197.7  266.9   \n",
       "1  1902   6.7   2.6  57.3   83.9  134.5   390.9  1205.0  315.8  491.6  358.4   \n",
       "2  1903   3.2  18.6   3.1   83.6  249.7   558.6  1022.5  420.2  341.8  354.1   \n",
       "3  1904  23.7   3.0  32.2   71.5  235.7  1098.2   725.5  351.8  222.7  328.1   \n",
       "4  1905   1.2  22.3   9.4  105.9  263.3   850.2   520.5  293.6  217.2  383.5   \n",
       "\n",
       "     NOV    DEC  \n",
       "0  350.8   48.4  \n",
       "1  158.3  121.5  \n",
       "2  157.0   59.0  \n",
       "3   33.9    3.3  \n",
       "4   74.4    0.2  "
      ]
     },
     "execution_count": 91,
     "metadata": {},
     "output_type": "execute_result"
    }
   ],
   "source": [
    "# Seperating the data which we are gonna use for prediction.\n",
    "x=data.iloc[:,1:14]\n",
    "x.head()"
   ]
  },
  {
   "cell_type": "code",
   "execution_count": 93,
   "metadata": {
    "tags": []
   },
   "outputs": [
    {
     "data": {
      "text/plain": [
       "0      1\n",
       "1      1\n",
       "2      1\n",
       "3      1\n",
       "4      0\n",
       "      ..\n",
       "113    1\n",
       "114    0\n",
       "115    0\n",
       "116    0\n",
       "117    1\n",
       "Name: FLOODS, Length: 118, dtype: int64"
      ]
     },
     "execution_count": 93,
     "metadata": {},
     "output_type": "execute_result"
    }
   ],
   "source": [
    "# Now seperate the flood label from the dataset.\n",
    "y=data.iloc[:,-1]\n",
    "y"
   ]
  },
  {
   "cell_type": "markdown",
   "metadata": {},
   "source": [
    "# Plotting the Data\n"
   ]
  },
  {
   "cell_type": "code",
   "execution_count": 96,
   "metadata": {
    "tags": []
   },
   "outputs": [
    {
     "data": {
      "image/png": "[encoded data removed]",
      "text/plain": [
       "<Figure size 640x480 with 4 Axes>"
      ]
     },
     "metadata": {},
     "output_type": "display_data"
    }
   ],
   "source": [
    "import matplotlib.pyplot as plt   \n",
    "# sets the backend of matplotlib to the 'inline' backend. \n",
    "%matplotlib inline                   \n",
    "c = data[['JUN','JUL','AUG','SEP']]\n",
    "c.hist()\n",
    "plt.show()\n",
    "# How the rainfall index vary during rainy season"
   ]
  },
  {
   "cell_type": "code",
   "execution_count": 98,
   "metadata": {
    "tags": []
   },
   "outputs": [
    {
     "data": {
      "text/plain": [
       "<contextlib.ExitStack at 0x21760e8d010>"
      ]
     },
     "execution_count": 98,
     "metadata": {},
     "output_type": "execute_result"
    },
    {
     "data": {
      "image/png": "[encoded data removed]",
      "text/plain": [
       "<Figure size 1400x600 with 1 Axes>"
      ]
     },
     "metadata": {},
     "output_type": "display_data"
    }
   ],
   "source": [
    "ax = data[['JAN', 'FEB', 'MAR', 'APR','MAY', 'JUN', 'AUG', 'SEP', 'OCT','NOV','DEC']].mean().plot.bar(width=0.5,edgecolor='k',align='center',linewidth=2,figsize=(14,6))\n",
    "plt.xlabel('Month',fontsize=30)\n",
    "plt.ylabel('Monthly Rainfall',fontsize=20)\n",
    "plt.title('Rainfall in Kerela for all Months',fontsize=25)\n",
    "ax.tick_params(labelsize=20)\n",
    "plt.grid()\n",
    "plt.ioff()"
   ]
  },
  {
   "cell_type": "markdown",
   "metadata": {},
   "source": [
    "# Using sklearn to develop the ML Model"
   ]
  },
  {
   "cell_type": "code",
   "execution_count": 101,
   "metadata": {
    "tags": []
   },
   "outputs": [
    {
     "data": {
      "text/plain": [
       "array([[0.        , 0.34371257, 0.56582278, ..., 0.39727673, 0.95570189,\n",
       "        0.2388724 ],\n",
       "       [0.00854701, 0.08023952, 0.03291139, ..., 0.5804966 , 0.37952709,\n",
       "        0.60039565],\n",
       "       [0.01709402, 0.03832335, 0.23544304, ..., 0.57188626, 0.37563604,\n",
       "        0.29129575],\n",
       "       ...,\n",
       "       [0.98290598, 0.02874251, 0.04810127, ..., 0.31517821, 0.28105358,\n",
       "        0.11622156],\n",
       "       [0.99145299, 0.02275449, 0.08607595, ..., 0.24809772, 0.18258007,\n",
       "        0.18793274],\n",
       "       [1.        , 0.34850299, 0.65949367, ..., 0.57589107, 0.28105358,\n",
       "        0.3214639 ]])"
      ]
     },
     "execution_count": 101,
     "metadata": {},
     "output_type": "execute_result"
    }
   ],
   "source": [
    "# Scaling the data between 0 and 1.\n",
    "from sklearn import preprocessing\n",
    "minmax = preprocessing.MinMaxScaler(feature_range=(0,1))\n",
    "minmax.fit(x).transform(x)"
   ]
  },
  {
   "cell_type": "code",
   "execution_count": 103,
   "metadata": {
    "tags": []
   },
   "outputs": [
    {
     "data": {
      "text/html": [
       "<div>\n",
       "<style scoped>\n",
       "    .dataframe tbody tr th:only-of-type {\n",
       "        vertical-align: middle;\n",
       "    }\n",
       "\n",
       "    .dataframe tbody tr th {\n",
       "        vertical-align: top;\n",
       "    }\n",
       "\n",
       "    .dataframe thead th {\n",
       "        text-align: right;\n",
       "    }\n",
       "</style>\n",
       "<table border=\"1\" class=\"dataframe\">\n",
       "  <thead>\n",
       "    <tr style=\"text-align: right;\">\n",
       "      <th></th>\n",
       "      <th>YEAR</th>\n",
       "      <th>JAN</th>\n",
       "      <th>FEB</th>\n",
       "      <th>MAR</th>\n",
       "      <th>APR</th>\n",
       "      <th>MAY</th>\n",
       "      <th>JUN</th>\n",
       "      <th>JUL</th>\n",
       "      <th>AUG</th>\n",
       "      <th>SEP</th>\n",
       "      <th>OCT</th>\n",
       "      <th>NOV</th>\n",
       "      <th>DEC</th>\n",
       "    </tr>\n",
       "  </thead>\n",
       "  <tbody>\n",
       "    <tr>\n",
       "      <th>117</th>\n",
       "      <td>2018</td>\n",
       "      <td>29.1</td>\n",
       "      <td>52.1</td>\n",
       "      <td>48.6</td>\n",
       "      <td>116.4</td>\n",
       "      <td>183.8</td>\n",
       "      <td>625.4</td>\n",
       "      <td>1048.5</td>\n",
       "      <td>1398.9</td>\n",
       "      <td>423.6</td>\n",
       "      <td>356.1</td>\n",
       "      <td>125.4</td>\n",
       "      <td>65.1</td>\n",
       "    </tr>\n",
       "    <tr>\n",
       "      <th>72</th>\n",
       "      <td>1973</td>\n",
       "      <td>0.0</td>\n",
       "      <td>0.3</td>\n",
       "      <td>12.3</td>\n",
       "      <td>131.5</td>\n",
       "      <td>119.9</td>\n",
       "      <td>617.0</td>\n",
       "      <td>583.5</td>\n",
       "      <td>487.5</td>\n",
       "      <td>61.3</td>\n",
       "      <td>260.8</td>\n",
       "      <td>84.5</td>\n",
       "      <td>53.8</td>\n",
       "    </tr>\n",
       "    <tr>\n",
       "      <th>97</th>\n",
       "      <td>1998</td>\n",
       "      <td>6.0</td>\n",
       "      <td>2.1</td>\n",
       "      <td>8.1</td>\n",
       "      <td>61.1</td>\n",
       "      <td>151.6</td>\n",
       "      <td>732.5</td>\n",
       "      <td>641.4</td>\n",
       "      <td>371.8</td>\n",
       "      <td>517.6</td>\n",
       "      <td>444.8</td>\n",
       "      <td>135.0</td>\n",
       "      <td>79.4</td>\n",
       "    </tr>\n",
       "    <tr>\n",
       "      <th>103</th>\n",
       "      <td>2004</td>\n",
       "      <td>2.4</td>\n",
       "      <td>8.1</td>\n",
       "      <td>37.9</td>\n",
       "      <td>113.2</td>\n",
       "      <td>610.9</td>\n",
       "      <td>673.4</td>\n",
       "      <td>385.4</td>\n",
       "      <td>417.9</td>\n",
       "      <td>192.8</td>\n",
       "      <td>320.6</td>\n",
       "      <td>120.7</td>\n",
       "      <td>2.7</td>\n",
       "    </tr>\n",
       "    <tr>\n",
       "      <th>75</th>\n",
       "      <td>1976</td>\n",
       "      <td>0.1</td>\n",
       "      <td>1.5</td>\n",
       "      <td>21.0</td>\n",
       "      <td>134.5</td>\n",
       "      <td>75.8</td>\n",
       "      <td>196.8</td>\n",
       "      <td>641.5</td>\n",
       "      <td>342.6</td>\n",
       "      <td>116.2</td>\n",
       "      <td>221.3</td>\n",
       "      <td>286.7</td>\n",
       "      <td>30.8</td>\n",
       "    </tr>\n",
       "  </tbody>\n",
       "</table>\n",
       "</div>"
      ],
      "text/plain": [
       "     YEAR   JAN   FEB   MAR    APR    MAY    JUN     JUL     AUG    SEP  \\\n",
       "117  2018  29.1  52.1  48.6  116.4  183.8  625.4  1048.5  1398.9  423.6   \n",
       "72   1973   0.0   0.3  12.3  131.5  119.9  617.0   583.5   487.5   61.3   \n",
       "97   1998   6.0   2.1   8.1   61.1  151.6  732.5   641.4   371.8  517.6   \n",
       "103  2004   2.4   8.1  37.9  113.2  610.9  673.4   385.4   417.9  192.8   \n",
       "75   1976   0.1   1.5  21.0  134.5   75.8  196.8   641.5   342.6  116.2   \n",
       "\n",
       "       OCT    NOV   DEC  \n",
       "117  356.1  125.4  65.1  \n",
       "72   260.8   84.5  53.8  \n",
       "97   444.8  135.0  79.4  \n",
       "103  320.6  120.7   2.7  \n",
       "75   221.3  286.7  30.8  "
      ]
     },
     "execution_count": 103,
     "metadata": {},
     "output_type": "execute_result"
    }
   ],
   "source": [
    "#dividing the dataset into training dataset and test dataset. \n",
    "from sklearn import model_selection,neighbors\n",
    "from sklearn.model_selection import train_test_split\n",
    "x_train,x_test,y_train,y_test=train_test_split(x,y,test_size=0.2)\n",
    "x_train.head()"
   ]
  },
  {
   "cell_type": "code",
   "execution_count": 105,
   "metadata": {
    "tags": []
   },
   "outputs": [
    {
     "data": {
      "text/plain": [
       "YEAR      int64\n",
       "JAN     float64\n",
       "FEB     float64\n",
       "MAR     float64\n",
       "APR     float64\n",
       "MAY     float64\n",
       "JUN     float64\n",
       "JUL     float64\n",
       "AUG     float64\n",
       "SEP     float64\n",
       "OCT     float64\n",
       "NOV     float64\n",
       "DEC     float64\n",
       "dtype: object"
      ]
     },
     "execution_count": 105,
     "metadata": {},
     "output_type": "execute_result"
    }
   ],
   "source": [
    "x_train.dtypes"
   ]
  },
  {
   "cell_type": "code",
   "execution_count": 107,
   "metadata": {
    "tags": []
   },
   "outputs": [
    {
     "data": {
      "text/html": [
       "<div>\n",
       "<style scoped>\n",
       "    .dataframe tbody tr th:only-of-type {\n",
       "        vertical-align: middle;\n",
       "    }\n",
       "\n",
       "    .dataframe tbody tr th {\n",
       "        vertical-align: top;\n",
       "    }\n",
       "\n",
       "    .dataframe thead th {\n",
       "        text-align: right;\n",
       "    }\n",
       "</style>\n",
       "<table border=\"1\" class=\"dataframe\">\n",
       "  <thead>\n",
       "    <tr style=\"text-align: right;\">\n",
       "      <th></th>\n",
       "      <th>YEAR</th>\n",
       "      <th>JAN</th>\n",
       "      <th>FEB</th>\n",
       "      <th>MAR</th>\n",
       "      <th>APR</th>\n",
       "      <th>MAY</th>\n",
       "      <th>JUN</th>\n",
       "      <th>JUL</th>\n",
       "      <th>AUG</th>\n",
       "      <th>SEP</th>\n",
       "      <th>OCT</th>\n",
       "      <th>NOV</th>\n",
       "      <th>DEC</th>\n",
       "    </tr>\n",
       "  </thead>\n",
       "  <tbody>\n",
       "    <tr>\n",
       "      <th>8</th>\n",
       "      <td>1909</td>\n",
       "      <td>54.1</td>\n",
       "      <td>11.8</td>\n",
       "      <td>61.3</td>\n",
       "      <td>93.8</td>\n",
       "      <td>473.2</td>\n",
       "      <td>704.7</td>\n",
       "      <td>782.3</td>\n",
       "      <td>258.0</td>\n",
       "      <td>195.4</td>\n",
       "      <td>212.1</td>\n",
       "      <td>171.1</td>\n",
       "      <td>32.3</td>\n",
       "    </tr>\n",
       "    <tr>\n",
       "      <th>74</th>\n",
       "      <td>1975</td>\n",
       "      <td>5.2</td>\n",
       "      <td>21.4</td>\n",
       "      <td>63.4</td>\n",
       "      <td>123.8</td>\n",
       "      <td>162.2</td>\n",
       "      <td>864.4</td>\n",
       "      <td>531.3</td>\n",
       "      <td>675.9</td>\n",
       "      <td>457.7</td>\n",
       "      <td>368.9</td>\n",
       "      <td>204.3</td>\n",
       "      <td>19.9</td>\n",
       "    </tr>\n",
       "    <tr>\n",
       "      <th>85</th>\n",
       "      <td>1986</td>\n",
       "      <td>5.6</td>\n",
       "      <td>18.7</td>\n",
       "      <td>11.2</td>\n",
       "      <td>63.1</td>\n",
       "      <td>126.7</td>\n",
       "      <td>597.9</td>\n",
       "      <td>324.8</td>\n",
       "      <td>340.3</td>\n",
       "      <td>235.4</td>\n",
       "      <td>165.5</td>\n",
       "      <td>194.7</td>\n",
       "      <td>9.5</td>\n",
       "    </tr>\n",
       "    <tr>\n",
       "      <th>7</th>\n",
       "      <td>1908</td>\n",
       "      <td>8.0</td>\n",
       "      <td>20.8</td>\n",
       "      <td>38.2</td>\n",
       "      <td>102.9</td>\n",
       "      <td>142.6</td>\n",
       "      <td>592.6</td>\n",
       "      <td>902.2</td>\n",
       "      <td>352.9</td>\n",
       "      <td>175.9</td>\n",
       "      <td>253.3</td>\n",
       "      <td>47.9</td>\n",
       "      <td>11.0</td>\n",
       "    </tr>\n",
       "    <tr>\n",
       "      <th>36</th>\n",
       "      <td>1937</td>\n",
       "      <td>6.5</td>\n",
       "      <td>21.2</td>\n",
       "      <td>58.7</td>\n",
       "      <td>175.5</td>\n",
       "      <td>137.1</td>\n",
       "      <td>485.6</td>\n",
       "      <td>970.5</td>\n",
       "      <td>281.2</td>\n",
       "      <td>139.8</td>\n",
       "      <td>401.9</td>\n",
       "      <td>121.0</td>\n",
       "      <td>19.1</td>\n",
       "    </tr>\n",
       "  </tbody>\n",
       "</table>\n",
       "</div>"
      ],
      "text/plain": [
       "    YEAR   JAN   FEB   MAR    APR    MAY    JUN    JUL    AUG    SEP    OCT  \\\n",
       "8   1909  54.1  11.8  61.3   93.8  473.2  704.7  782.3  258.0  195.4  212.1   \n",
       "74  1975   5.2  21.4  63.4  123.8  162.2  864.4  531.3  675.9  457.7  368.9   \n",
       "85  1986   5.6  18.7  11.2   63.1  126.7  597.9  324.8  340.3  235.4  165.5   \n",
       "7   1908   8.0  20.8  38.2  102.9  142.6  592.6  902.2  352.9  175.9  253.3   \n",
       "36  1937   6.5  21.2  58.7  175.5  137.1  485.6  970.5  281.2  139.8  401.9   \n",
       "\n",
       "      NOV   DEC  \n",
       "8   171.1  32.3  \n",
       "74  204.3  19.9  \n",
       "85  194.7   9.5  \n",
       "7    47.9  11.0  \n",
       "36  121.0  19.1  "
      ]
     },
     "execution_count": 107,
     "metadata": {},
     "output_type": "execute_result"
    }
   ],
   "source": [
    "x_test.head()"
   ]
  },
  {
   "cell_type": "code",
   "execution_count": 109,
   "metadata": {
    "tags": []
   },
   "outputs": [
    {
     "data": {
      "text/plain": [
       "117    1\n",
       "72     0\n",
       "97     1\n",
       "103    0\n",
       "75     0\n",
       "      ..\n",
       "38     1\n",
       "32     1\n",
       "107    0\n",
       "64     0\n",
       "95     0\n",
       "Name: FLOODS, Length: 94, dtype: int32"
      ]
     },
     "execution_count": 109,
     "metadata": {},
     "output_type": "execute_result"
    }
   ],
   "source": [
    "# type casting.\n",
    "y_train=y_train.astype('int')\n",
    "y_train"
   ]
  },
  {
   "cell_type": "code",
   "execution_count": 111,
   "metadata": {
    "tags": []
   },
   "outputs": [
    {
     "data": {
      "text/plain": [
       "8      1\n",
       "74     1\n",
       "85     0\n",
       "7      0\n",
       "36     0\n",
       "86     0\n",
       "26     1\n",
       "110    1\n",
       "90     1\n",
       "4      0\n",
       "34     0\n",
       "12     0\n",
       "30     1\n",
       "81     0\n",
       "76     1\n",
       "66     0\n",
       "83     0\n",
       "62     0\n",
       "57     1\n",
       "113    1\n",
       "41     1\n",
       "94     0\n",
       "14     1\n",
       "53     1\n",
       "Name: FLOODS, dtype: int32"
      ]
     },
     "execution_count": 111,
     "metadata": {},
     "output_type": "execute_result"
    }
   ],
   "source": [
    "y_test=y_test.astype('int')\n",
    "y_test"
   ]
  },
  {
   "cell_type": "markdown",
   "metadata": {},
   "source": [
    "# Using Prediction Algorithms:"
   ]
  },
  {
   "cell_type": "markdown",
   "metadata": {},
   "source": [
    "## KNN classifier to predict"
   ]
  },
  {
   "cell_type": "code",
   "execution_count": 115,
   "metadata": {
    "tags": []
   },
   "outputs": [
    {
     "data": {
      "text/html": [
       "<style>#sk-container-id-1 {color: black;}#sk-container-id-1 pre{padding: 0;}#sk-container-id-1 div.sk-toggleable {background-color: white;}#sk-container-id-1 label.sk-toggleable__label {cursor: pointer;display: block;width: 100%;margin-bottom: 0;padding: 0.3em;box-sizing: border-box;text-align: center;}#sk-container-id-1 label.sk-toggleable__label-arrow:before {content: \"▸\";float: left;margin-right: 0.25em;color: #696969;}#sk-container-id-1 label.sk-toggleable__label-arrow:hover:before {color: black;}#sk-container-id-1 div.sk-estimator:hover label.sk-toggleable__label-arrow:before {color: black;}#sk-container-id-1 div.sk-toggleable__content {max-height: 0;max-width: 0;overflow: hidden;text-align: left;background-color: #f0f8ff;}#sk-container-id-1 div.sk-toggleable__content pre {margin: 0.2em;color: black;border-radius: 0.25em;background-color: #f0f8ff;}#sk-container-id-1 input.sk-toggleable__control:checked~div.sk-toggleable__content {max-height: 200px;max-width: 100%;overflow: auto;}#sk-container-id-1 input.sk-toggleable__control:checked~label.sk-toggleable__label-arrow:before {content: \"▾\";}#sk-container-id-1 div.sk-estimator input.sk-toggleable__control:checked~label.sk-toggleable__label {background-color: #d4ebff;}#sk-container-id-1 div.sk-label input.sk-toggleable__control:checked~label.sk-toggleable__label {background-color: #d4ebff;}#sk-container-id-1 input.sk-hidden--visually {border: 0;clip: rect(1px 1px 1px 1px);clip: rect(1px, 1px, 1px, 1px);height: 1px;margin: -1px;overflow: hidden;padding: 0;position: absolute;width: 1px;}#sk-container-id-1 div.sk-estimator {font-family: monospace;background-color: #f0f8ff;border: 1px dotted black;border-radius: 0.25em;box-sizing: border-box;margin-bottom: 0.5em;}#sk-container-id-1 div.sk-estimator:hover {background-color: #d4ebff;}#sk-container-id-1 div.sk-parallel-item::after {content: \"\";width: 100%;border-bottom: 1px solid gray;flex-grow: 1;}#sk-container-id-1 div.sk-label:hover label.sk-toggleable__label {background-color: #d4ebff;}#sk-container-id-1 div.sk-serial::before {content: \"\";position: absolute;border-left: 1px solid gray;box-sizing: border-box;top: 0;bottom: 0;left: 50%;z-index: 0;}#sk-container-id-1 div.sk-serial {display: flex;flex-direction: column;align-items: center;background-color: white;padding-right: 0.2em;padding-left: 0.2em;position: relative;}#sk-container-id-1 div.sk-item {position: relative;z-index: 1;}#sk-container-id-1 div.sk-parallel {display: flex;align-items: stretch;justify-content: center;background-color: white;position: relative;}#sk-container-id-1 div.sk-item::before, #sk-container-id-1 div.sk-parallel-item::before {content: \"\";position: absolute;border-left: 1px solid gray;box-sizing: border-box;top: 0;bottom: 0;left: 50%;z-index: -1;}#sk-container-id-1 div.sk-parallel-item {display: flex;flex-direction: column;z-index: 1;position: relative;background-color: white;}#sk-container-id-1 div.sk-parallel-item:first-child::after {align-self: flex-end;width: 50%;}#sk-container-id-1 div.sk-parallel-item:last-child::after {align-self: flex-start;width: 50%;}#sk-container-id-1 div.sk-parallel-item:only-child::after {width: 0;}#sk-container-id-1 div.sk-dashed-wrapped {border: 1px dashed gray;margin: 0 0.4em 0.5em 0.4em;box-sizing: border-box;padding-bottom: 0.4em;background-color: white;}#sk-container-id-1 div.sk-label label {font-family: monospace;font-weight: bold;display: inline-block;line-height: 1.2em;}#sk-container-id-1 div.sk-label-container {text-align: center;}#sk-container-id-1 div.sk-container {/* jupyter's `normalize.less` sets `[hidden] { display: none; }` but bootstrap.min.css set `[hidden] { display: none !important; }` so we also need the `!important` here to be able to override the default hidden behavior on the sphinx rendered scikit-learn.org. See: https://github.com/scikit-learn/scikit-learn/issues/21755 */display: inline-block !important;position: relative;}#sk-container-id-1 div.sk-text-repr-fallback {display: none;}</style><div id=\"sk-container-id-1\" class=\"sk-top-container\"><div class=\"sk-text-repr-fallback\"><pre>KNeighborsClassifier()</pre><b>In a Jupyter environment, please rerun this cell to show the HTML representation or trust the notebook. <br />On GitHub, the HTML representation is unable to render, please try loading this page with nbviewer.org.</b></div><div class=\"sk-container\" hidden><div class=\"sk-item\"><div class=\"sk-estimator sk-toggleable\"><input class=\"sk-toggleable__control sk-hidden--visually\" id=\"sk-estimator-id-1\" type=\"checkbox\" checked><label for=\"sk-estimator-id-1\" class=\"sk-toggleable__label sk-toggleable__label-arrow\">KNeighborsClassifier</label><div class=\"sk-toggleable__content\"><pre>KNeighborsClassifier()</pre></div></div></div></div></div>"
      ],
      "text/plain": [
       "KNeighborsClassifier()"
      ]
     },
     "execution_count": 115,
     "metadata": {},
     "output_type": "execute_result"
    }
   ],
   "source": [
    "clf=neighbors.KNeighborsClassifier()\n",
    "clf.fit(x_train,y_train)"
   ]
  },
  {
   "cell_type": "code",
   "execution_count": 117,
   "metadata": {
    "tags": []
   },
   "outputs": [
    {
     "name": "stdout",
     "output_type": "stream",
     "text": [
      "Predicted Values for the Floods:\n"
     ]
    },
    {
     "data": {
      "text/plain": [
       "array([1, 1, 0, 0, 0, 0, 1, 1, 1, 0, 0, 0, 1, 0, 0, 0, 0, 0, 1, 0, 1, 1,\n",
       "       1, 0])"
      ]
     },
     "execution_count": 117,
     "metadata": {},
     "output_type": "execute_result"
    }
   ],
   "source": [
    "# Predicted chance of Flood.\n",
    "print(\"Predicted Values for the Floods:\")\n",
    "y_predict=clf.predict(x_test)\n",
    "y_predict"
   ]
  },
  {
   "cell_type": "code",
   "execution_count": 119,
   "metadata": {
    "tags": []
   },
   "outputs": [
    {
     "name": "stdout",
     "output_type": "stream",
     "text": [
      "Actual Values for the Floods:\n",
      "8      1\n",
      "74     1\n",
      "85     0\n",
      "7      0\n",
      "36     0\n",
      "86     0\n",
      "26     1\n",
      "110    1\n",
      "90     1\n",
      "4      0\n",
      "34     0\n",
      "12     0\n",
      "30     1\n",
      "81     0\n",
      "76     1\n",
      "66     0\n",
      "83     0\n",
      "62     0\n",
      "57     1\n",
      "113    1\n",
      "41     1\n",
      "94     0\n",
      "14     1\n",
      "53     1\n",
      "Name: FLOODS, dtype: int32\n"
     ]
    }
   ],
   "source": [
    "print(\"Actual Values for the Floods:\")\n",
    "print(y_test)"
   ]
  },
  {
   "cell_type": "code",
   "execution_count": 121,
   "metadata": {
    "tags": []
   },
   "outputs": [
    {
     "name": "stdout",
     "output_type": "stream",
     "text": [
      "List of the Predicted Values:\n",
      "[1 1 0 0 0 0 1 1 1 0 0 0 1 0 0 0 0 0 1 0 1 1 1 0]\n"
     ]
    }
   ],
   "source": [
    "print(\"List of the Predicted Values:\")\n",
    "print(y_predict)"
   ]
  },
  {
   "cell_type": "code",
   "execution_count": 123,
   "metadata": {
    "tags": []
   },
   "outputs": [],
   "source": [
    "# Scaling the dataset.\n",
    "from sklearn.model_selection import cross_val_score,cross_val_predict\n",
    "x_train_std= minmax.fit_transform(x_train)\n",
    "x_test_std= minmax.fit_transform(x_test)\n",
    "knn_acc=cross_val_score(clf,x_train_std,y_train,cv=3,scoring='accuracy',n_jobs=-1)\n",
    "knn_proba=cross_val_predict(clf,x_train_std,y_train,cv=3,method='predict_proba')"
   ]
  },
  {
   "cell_type": "code",
   "execution_count": 124,
   "metadata": {
    "tags": []
   },
   "outputs": [
    {
     "data": {
      "text/plain": [
       "array([0.84375   , 0.74193548, 0.74193548])"
      ]
     },
     "execution_count": 124,
     "metadata": {},
     "output_type": "execute_result"
    }
   ],
   "source": [
    "knn_acc"
   ]
  },
  {
   "cell_type": "code",
   "execution_count": 125,
   "metadata": {
    "tags": []
   },
   "outputs": [
    {
     "data": {
      "text/plain": [
       "array([[0.4, 0.6],\n",
       "       [1. , 0. ],\n",
       "       [0.6, 0.4],\n",
       "       [0.8, 0.2],\n",
       "       [0.6, 0.4],\n",
       "       [0. , 1. ],\n",
       "       [0. , 1. ],\n",
       "       [0.8, 0.2],\n",
       "       [0. , 1. ],\n",
       "       [0.4, 0.6],\n",
       "       [0.6, 0.4],\n",
       "       [0.4, 0.6],\n",
       "       [0. , 1. ],\n",
       "       [0.8, 0.2],\n",
       "       [0.6, 0.4],\n",
       "       [1. , 0. ],\n",
       "       [1. , 0. ],\n",
       "       [0.2, 0.8],\n",
       "       [1. , 0. ],\n",
       "       [0.6, 0.4],\n",
       "       [0.6, 0.4],\n",
       "       [0.2, 0.8],\n",
       "       [0. , 1. ],\n",
       "       [1. , 0. ],\n",
       "       [0.4, 0.6],\n",
       "       [0.4, 0.6],\n",
       "       [0.6, 0.4],\n",
       "       [0.6, 0.4],\n",
       "       [0.6, 0.4],\n",
       "       [0. , 1. ],\n",
       "       [1. , 0. ],\n",
       "       [0.8, 0.2],\n",
       "       [0.4, 0.6],\n",
       "       [0.8, 0.2],\n",
       "       [0.4, 0.6],\n",
       "       [1. , 0. ],\n",
       "       [0.2, 0.8],\n",
       "       [1. , 0. ],\n",
       "       [0. , 1. ],\n",
       "       [0.4, 0.6],\n",
       "       [0.6, 0.4],\n",
       "       [0.6, 0.4],\n",
       "       [0.4, 0.6],\n",
       "       [0. , 1. ],\n",
       "       [0.6, 0.4],\n",
       "       [0.4, 0.6],\n",
       "       [0.6, 0.4],\n",
       "       [0.8, 0.2],\n",
       "       [0.8, 0.2],\n",
       "       [1. , 0. ],\n",
       "       [0.4, 0.6],\n",
       "       [1. , 0. ],\n",
       "       [0.4, 0.6],\n",
       "       [0.6, 0.4],\n",
       "       [0.4, 0.6],\n",
       "       [0.4, 0.6],\n",
       "       [0.4, 0.6],\n",
       "       [0.8, 0.2],\n",
       "       [0.8, 0.2],\n",
       "       [0.8, 0.2],\n",
       "       [0.8, 0.2],\n",
       "       [0.4, 0.6],\n",
       "       [0.4, 0.6],\n",
       "       [1. , 0. ],\n",
       "       [0.8, 0.2],\n",
       "       [0.2, 0.8],\n",
       "       [0.8, 0.2],\n",
       "       [0.6, 0.4],\n",
       "       [0.2, 0.8],\n",
       "       [0.4, 0.6],\n",
       "       [0.6, 0.4],\n",
       "       [0.8, 0.2],\n",
       "       [0.8, 0.2],\n",
       "       [0. , 1. ],\n",
       "       [0.4, 0.6],\n",
       "       [0.8, 0.2],\n",
       "       [0.8, 0.2],\n",
       "       [0.8, 0.2],\n",
       "       [0.2, 0.8],\n",
       "       [0.4, 0.6],\n",
       "       [0.2, 0.8],\n",
       "       [0.4, 0.6],\n",
       "       [1. , 0. ],\n",
       "       [0.2, 0.8],\n",
       "       [1. , 0. ],\n",
       "       [0.8, 0.2],\n",
       "       [0.4, 0.6],\n",
       "       [0.8, 0.2],\n",
       "       [0.4, 0.6],\n",
       "       [0.6, 0.4],\n",
       "       [0.2, 0.8],\n",
       "       [0.6, 0.4],\n",
       "       [0.6, 0.4],\n",
       "       [0.8, 0.2]])"
      ]
     },
     "execution_count": 125,
     "metadata": {},
     "output_type": "execute_result"
    }
   ],
   "source": [
    "knn_proba"
   ]
  },
  {
   "cell_type": "markdown",
   "metadata": {},
   "source": [
    "### How accurate is our model?"
   ]
  },
  {
   "cell_type": "code",
   "execution_count": 127,
   "metadata": {
    "tags": []
   },
   "outputs": [
    {
     "name": "stdout",
     "output_type": "stream",
     "text": [
      "\n",
      "Accuracy Score:83.333333\n",
      "Recall Score:75.000000\n",
      "ROC score:83.333333\n",
      "[[11  1]\n",
      " [ 3  9]]\n"
     ]
    }
   ],
   "source": [
    "from sklearn.metrics import accuracy_score,recall_score,roc_auc_score,confusion_matrix\n",
    "print(\"\\nAccuracy Score:%f\"%(accuracy_score(y_test,y_predict)*100))\n",
    "print(\"Recall Score:%f\"%(recall_score(y_test,y_predict)*100))\n",
    "print(\"ROC score:%f\"%(roc_auc_score(y_test,y_predict)*100))\n",
    "print(confusion_matrix(y_test,y_predict))"
   ]
  },
  {
   "cell_type": "markdown",
   "metadata": {},
   "source": [
    "## Logistic Regression to predict"
   ]
  },
  {
   "cell_type": "code",
   "execution_count": 129,
   "metadata": {
    "tags": []
   },
   "outputs": [],
   "source": [
    "x_train_std=minmax.fit_transform(x_train)         # fit the values in between 0 and 1.\n",
    "y_train_std=minmax.transform(x_test)\n",
    "\n",
    "from sklearn.model_selection import cross_val_score,cross_val_predict\n",
    "from sklearn.linear_model import LogisticRegression\n",
    "lr=LogisticRegression()\n",
    "lr.fit(x_train,y_train)\n",
    "lr_acc=cross_val_score(lr,x_train_std,y_train,cv=3,scoring='accuracy',n_jobs=-1)\n",
    "lr_proba=cross_val_predict(lr,x_train_std,y_train,cv=3,method='predict_proba')"
   ]
  },
  {
   "cell_type": "code",
   "execution_count": 130,
   "metadata": {
    "tags": []
   },
   "outputs": [
    {
     "data": {
      "text/plain": [
       "array([0.8125    , 0.87096774, 0.93548387])"
      ]
     },
     "execution_count": 130,
     "metadata": {},
     "output_type": "execute_result"
    }
   ],
   "source": [
    "lr_acc"
   ]
  },
  {
   "cell_type": "code",
   "execution_count": 131,
   "metadata": {
    "tags": []
   },
   "outputs": [
    {
     "data": {
      "text/plain": [
       "array([[0.38142714, 0.61857286],\n",
       "       [0.77890063, 0.22109937],\n",
       "       [0.45002465, 0.54997535],\n",
       "       [0.58737903, 0.41262097],\n",
       "       [0.76674005, 0.23325995],\n",
       "       [0.47489411, 0.52510589],\n",
       "       [0.29823838, 0.70176162],\n",
       "       [0.57139431, 0.42860569],\n",
       "       [0.11677291, 0.88322709],\n",
       "       [0.40363875, 0.59636125],\n",
       "       [0.62556585, 0.37443415],\n",
       "       [0.21995998, 0.78004002],\n",
       "       [0.35044353, 0.64955647],\n",
       "       [0.65833793, 0.34166207],\n",
       "       [0.56857092, 0.43142908],\n",
       "       [0.83286667, 0.16713333],\n",
       "       [0.82656974, 0.17343026],\n",
       "       [0.26069045, 0.73930955],\n",
       "       [0.68052266, 0.31947734],\n",
       "       [0.44364237, 0.55635763],\n",
       "       [0.59440471, 0.40559529],\n",
       "       [0.34820776, 0.65179224],\n",
       "       [0.21919471, 0.78080529],\n",
       "       [0.74050814, 0.25949186],\n",
       "       [0.40483575, 0.59516425],\n",
       "       [0.47564687, 0.52435313],\n",
       "       [0.44254041, 0.55745959],\n",
       "       [0.53550791, 0.46449209],\n",
       "       [0.59468307, 0.40531693],\n",
       "       [0.23015607, 0.76984393],\n",
       "       [0.77233172, 0.22766828],\n",
       "       [0.50894208, 0.49105792],\n",
       "       [0.47942545, 0.52057455],\n",
       "       [0.64272979, 0.35727021],\n",
       "       [0.48446485, 0.51553515],\n",
       "       [0.52031923, 0.47968077],\n",
       "       [0.48187254, 0.51812746],\n",
       "       [0.55704613, 0.44295387],\n",
       "       [0.17926482, 0.82073518],\n",
       "       [0.40284142, 0.59715858],\n",
       "       [0.6585976 , 0.3414024 ],\n",
       "       [0.53546696, 0.46453304],\n",
       "       [0.53066205, 0.46933795],\n",
       "       [0.51509704, 0.48490296],\n",
       "       [0.35889535, 0.64110465],\n",
       "       [0.3397028 , 0.6602972 ],\n",
       "       [0.55926201, 0.44073799],\n",
       "       [0.37013629, 0.62986371],\n",
       "       [0.50572599, 0.49427401],\n",
       "       [0.82925801, 0.17074199],\n",
       "       [0.50186705, 0.49813295],\n",
       "       [0.64698573, 0.35301427],\n",
       "       [0.34188999, 0.65811001],\n",
       "       [0.40099412, 0.59900588],\n",
       "       [0.33746685, 0.66253315],\n",
       "       [0.32021631, 0.67978369],\n",
       "       [0.36560097, 0.63439903],\n",
       "       [0.54554172, 0.45445828],\n",
       "       [0.81742675, 0.18257325],\n",
       "       [0.70485588, 0.29514412],\n",
       "       [0.61248618, 0.38751382],\n",
       "       [0.31711253, 0.68288747],\n",
       "       [0.45768615, 0.54231385],\n",
       "       [0.5943028 , 0.4056972 ],\n",
       "       [0.59344443, 0.40655557],\n",
       "       [0.1349839 , 0.8650161 ],\n",
       "       [0.61877043, 0.38122957],\n",
       "       [0.61450445, 0.38549555],\n",
       "       [0.33302112, 0.66697888],\n",
       "       [0.39124968, 0.60875032],\n",
       "       [0.33800647, 0.66199353],\n",
       "       [0.39850238, 0.60149762],\n",
       "       [0.56593495, 0.43406505],\n",
       "       [0.51597504, 0.48402496],\n",
       "       [0.27200634, 0.72799366],\n",
       "       [0.70669539, 0.29330461],\n",
       "       [0.46370651, 0.53629349],\n",
       "       [0.61251513, 0.38748487],\n",
       "       [0.50575047, 0.49424953],\n",
       "       [0.382447  , 0.617553  ],\n",
       "       [0.41122905, 0.58877095],\n",
       "       [0.20697218, 0.79302782],\n",
       "       [0.81289384, 0.18710616],\n",
       "       [0.32694077, 0.67305923],\n",
       "       [0.82248518, 0.17751482],\n",
       "       [0.69693684, 0.30306316],\n",
       "       [0.28835366, 0.71164634],\n",
       "       [0.38868173, 0.61131827],\n",
       "       [0.3163088 , 0.6836912 ],\n",
       "       [0.54715037, 0.45284963],\n",
       "       [0.11193926, 0.88806074],\n",
       "       [0.6529219 , 0.3470781 ],\n",
       "       [0.67052283, 0.32947717],\n",
       "       [0.62501102, 0.37498898]])"
      ]
     },
     "execution_count": 131,
     "metadata": {},
     "output_type": "execute_result"
    }
   ],
   "source": [
    "lr_proba"
   ]
  },
  {
   "cell_type": "code",
   "execution_count": 132,
   "metadata": {
    "tags": []
   },
   "outputs": [
    {
     "data": {
      "text/plain": [
       "array([1, 1, 0, 0, 0, 0, 1, 1, 1, 0, 0, 0, 1, 0, 1, 0, 0, 0, 1, 0, 1, 0,\n",
       "       1, 0])"
      ]
     },
     "execution_count": 132,
     "metadata": {},
     "output_type": "execute_result"
    }
   ],
   "source": [
    "y_pred=lr.predict(x_test)\n",
    "y_pred"
   ]
  },
  {
   "cell_type": "code",
   "execution_count": 133,
   "metadata": {
    "tags": []
   },
   "outputs": [
    {
     "name": "stdout",
     "output_type": "stream",
     "text": [
      "[1 1 0 0 0 0 1 1 1 0 0 0 1 0 1 0 0 0 1 1 1 0 1 1]\n"
     ]
    }
   ],
   "source": [
    "print(y_test.values)"
   ]
  },
  {
   "cell_type": "code",
   "execution_count": 134,
   "metadata": {
    "tags": []
   },
   "outputs": [
    {
     "name": "stdout",
     "output_type": "stream",
     "text": [
      "List of the Predicted Values:\n",
      "[1 1 0 0 0 0 1 1 1 0 0 0 1 0 1 0 0 0 1 0 1 0 1 0]\n"
     ]
    }
   ],
   "source": [
    "print(\"List of the Predicted Values:\")\n",
    "print(y_pred)"
   ]
  },
  {
   "cell_type": "markdown",
   "metadata": {},
   "source": [
    "### Accuracy and Efficiency of our Model "
   ]
  },
  {
   "cell_type": "code",
   "execution_count": 139,
   "metadata": {
    "tags": []
   },
   "outputs": [
    {
     "name": "stdout",
     "output_type": "stream",
     "text": [
      "\n",
      "accuracy score:91.666667\n",
      "recall score:83.333333\n",
      "roc score:91.666667\n",
      "[[12  0]\n",
      " [ 2 10]]\n"
     ]
    }
   ],
   "source": [
    "from sklearn.metrics import accuracy_score,recall_score,roc_auc_score,confusion_matrix\n",
    "print(\"\\naccuracy score:%f\"%(accuracy_score(y_test,y_pred)*100))\n",
    "print(\"recall score:%f\"%(recall_score(y_test,y_pred)*100))\n",
    "print(\"roc score:%f\"%(roc_auc_score(y_test,y_pred)*100))\n",
    "print(confusion_matrix(y_test,y_pred))"
   ]
  },
  {
   "cell_type": "markdown",
   "metadata": {},
   "source": [
    "## Support Vector Classification to predict"
   ]
  },
  {
   "cell_type": "code",
   "execution_count": 142,
   "metadata": {
    "tags": []
   },
   "outputs": [],
   "source": [
    "from sklearn.svm import SVC\n",
    "svc=SVC(kernel='rbf',probability=True)\n",
    "svc_classifier=svc.fit(x_train,y_train)\n",
    "svc_acc=cross_val_score(svc_classifier,x_train_std,y_train,cv=3,scoring=\"accuracy\",n_jobs=-1)\n",
    "svc_proba=cross_val_predict(svc_classifier,x_train_std,y_train,cv=3,method='predict_proba')"
   ]
  },
  {
   "cell_type": "code",
   "execution_count": 143,
   "metadata": {
    "tags": []
   },
   "outputs": [
    {
     "data": {
      "text/plain": [
       "array([0.84375   , 0.83870968, 0.77419355])"
      ]
     },
     "execution_count": 143,
     "metadata": {},
     "output_type": "execute_result"
    }
   ],
   "source": [
    "svc_acc"
   ]
  },
  {
   "cell_type": "code",
   "execution_count": 144,
   "metadata": {
    "tags": []
   },
   "outputs": [
    {
     "data": {
      "text/plain": [
       "array([[3.61908051e-01, 6.38091949e-01],\n",
       "       [9.94259459e-01, 5.74054101e-03],\n",
       "       [2.93164025e-01, 7.06835975e-01],\n",
       "       [8.33245552e-01, 1.66754448e-01],\n",
       "       [9.59797544e-01, 4.02024556e-02],\n",
       "       [5.60670854e-01, 4.39329146e-01],\n",
       "       [1.08790844e-01, 8.91209156e-01],\n",
       "       [7.50140885e-01, 2.49859115e-01],\n",
       "       [1.00518308e-02, 9.89948169e-01],\n",
       "       [3.37548059e-01, 6.62451941e-01],\n",
       "       [7.61524518e-01, 2.38475482e-01],\n",
       "       [2.65288797e-01, 7.34711203e-01],\n",
       "       [1.28478798e-01, 8.71521202e-01],\n",
       "       [9.69041943e-01, 3.09580571e-02],\n",
       "       [7.95561654e-01, 2.04438346e-01],\n",
       "       [9.98175166e-01, 1.82483393e-03],\n",
       "       [9.80725684e-01, 1.92743158e-02],\n",
       "       [3.39387772e-02, 9.66061223e-01],\n",
       "       [9.08783962e-01, 9.12160378e-02],\n",
       "       [3.43390882e-01, 6.56609118e-01],\n",
       "       [7.17412901e-01, 2.82587099e-01],\n",
       "       [1.55562709e-01, 8.44437291e-01],\n",
       "       [5.54613490e-02, 9.44538651e-01],\n",
       "       [9.74245296e-01, 2.57547041e-02],\n",
       "       [3.17183819e-01, 6.82816181e-01],\n",
       "       [3.50260255e-01, 6.49739745e-01],\n",
       "       [5.47408657e-01, 4.52591343e-01],\n",
       "       [6.18717676e-01, 3.81282324e-01],\n",
       "       [6.22895901e-01, 3.77104099e-01],\n",
       "       [2.29114734e-02, 9.77088527e-01],\n",
       "       [9.98308993e-01, 1.69100674e-03],\n",
       "       [6.79702043e-01, 3.20297957e-01],\n",
       "       [2.85872852e-01, 7.14127148e-01],\n",
       "       [9.35601629e-01, 6.43983705e-02],\n",
       "       [2.99612439e-01, 7.00387561e-01],\n",
       "       [6.67078936e-01, 3.32921064e-01],\n",
       "       [4.03740100e-01, 5.96259900e-01],\n",
       "       [7.96231886e-01, 2.03768114e-01],\n",
       "       [7.52853395e-02, 9.24714661e-01],\n",
       "       [1.72694022e-01, 8.27305978e-01],\n",
       "       [9.08079043e-01, 9.19209570e-02],\n",
       "       [7.70932544e-01, 2.29067456e-01],\n",
       "       [5.60393944e-01, 4.39606056e-01],\n",
       "       [4.08784171e-01, 5.91215829e-01],\n",
       "       [1.79094118e-01, 8.20905882e-01],\n",
       "       [6.97922256e-02, 9.30207774e-01],\n",
       "       [7.46215186e-01, 2.53784814e-01],\n",
       "       [4.10275901e-01, 5.89724099e-01],\n",
       "       [6.70491220e-01, 3.29508780e-01],\n",
       "       [9.98340912e-01, 1.65908798e-03],\n",
       "       [2.94785908e-01, 7.05214092e-01],\n",
       "       [9.83016766e-01, 1.69832336e-02],\n",
       "       [2.54582439e-01, 7.45417561e-01],\n",
       "       [3.48483562e-01, 6.51516438e-01],\n",
       "       [2.27028660e-01, 7.72971340e-01],\n",
       "       [1.57341144e-01, 8.42658856e-01],\n",
       "       [8.82160764e-02, 9.11783924e-01],\n",
       "       [8.02104426e-01, 1.97895574e-01],\n",
       "       [9.94639068e-01, 5.36093184e-03],\n",
       "       [9.74548553e-01, 2.54514466e-02],\n",
       "       [9.57029195e-01, 4.29708055e-02],\n",
       "       [5.71727522e-02, 9.42827248e-01],\n",
       "       [1.81991508e-01, 8.18008492e-01],\n",
       "       [8.86401510e-01, 1.13598490e-01],\n",
       "       [5.42528374e-01, 4.57471626e-01],\n",
       "       [9.12138081e-06, 9.99990879e-01],\n",
       "       [9.33232117e-01, 6.67678834e-02],\n",
       "       [5.24716275e-01, 4.75283725e-01],\n",
       "       [9.56448999e-02, 9.04355100e-01],\n",
       "       [1.00625988e-01, 8.99374012e-01],\n",
       "       [9.88022602e-02, 9.01197740e-01],\n",
       "       [5.63952615e-01, 4.36047385e-01],\n",
       "       [9.40284534e-01, 5.97154658e-02],\n",
       "       [1.21596483e-01, 8.78403517e-01],\n",
       "       [1.34094341e-01, 8.65905659e-01],\n",
       "       [9.39639910e-01, 6.03600902e-02],\n",
       "       [2.45335967e-01, 7.54664033e-01],\n",
       "       [7.83546960e-01, 2.16453040e-01],\n",
       "       [1.50647498e-01, 8.49352502e-01],\n",
       "       [1.10595641e-01, 8.89404359e-01],\n",
       "       [2.65451834e-01, 7.34548166e-01],\n",
       "       [5.83681052e-03, 9.94163189e-01],\n",
       "       [9.96008070e-01, 3.99193003e-03],\n",
       "       [2.89156273e-02, 9.71084373e-01],\n",
       "       [9.91109003e-01, 8.89099747e-03],\n",
       "       [9.64097208e-01, 3.59027917e-02],\n",
       "       [6.17087370e-02, 9.38291263e-01],\n",
       "       [2.33487551e-01, 7.66512449e-01],\n",
       "       [8.38541739e-02, 9.16145826e-01],\n",
       "       [6.37724456e-01, 3.62275544e-01],\n",
       "       [8.19916905e-03, 9.91800831e-01],\n",
       "       [3.19046139e-01, 6.80953861e-01],\n",
       "       [9.37123802e-01, 6.28761984e-02],\n",
       "       [8.96955840e-01, 1.03044160e-01]])"
      ]
     },
     "execution_count": 144,
     "metadata": {},
     "output_type": "execute_result"
    }
   ],
   "source": [
    "svc_proba"
   ]
  },
  {
   "cell_type": "code",
   "execution_count": 145,
   "metadata": {
    "tags": []
   },
   "outputs": [
    {
     "data": {
      "text/plain": [
       "array([0.63809195, 0.00574054, 0.70683598, 0.16675445, 0.04020246,\n",
       "       0.43932915, 0.89120916, 0.24985912, 0.98994817, 0.66245194,\n",
       "       0.23847548, 0.7347112 , 0.8715212 , 0.03095806, 0.20443835,\n",
       "       0.00182483, 0.01927432, 0.96606122, 0.09121604, 0.65660912,\n",
       "       0.2825871 , 0.84443729, 0.94453865, 0.0257547 , 0.68281618,\n",
       "       0.64973975, 0.45259134, 0.38128232, 0.3771041 , 0.97708853,\n",
       "       0.00169101, 0.32029796, 0.71412715, 0.06439837, 0.70038756,\n",
       "       0.33292106, 0.5962599 , 0.20376811, 0.92471466, 0.82730598,\n",
       "       0.09192096, 0.22906746, 0.43960606, 0.59121583, 0.82090588,\n",
       "       0.93020777, 0.25378481, 0.5897241 , 0.32950878, 0.00165909,\n",
       "       0.70521409, 0.01698323, 0.74541756, 0.65151644, 0.77297134,\n",
       "       0.84265886, 0.91178392, 0.19789557, 0.00536093, 0.02545145,\n",
       "       0.04297081, 0.94282725, 0.81800849, 0.11359849, 0.45747163,\n",
       "       0.99999088, 0.06676788, 0.47528372, 0.9043551 , 0.89937401,\n",
       "       0.90119774, 0.43604738, 0.05971547, 0.87840352, 0.86590566,\n",
       "       0.06036009, 0.75466403, 0.21645304, 0.8493525 , 0.88940436,\n",
       "       0.73454817, 0.99416319, 0.00399193, 0.97108437, 0.008891  ,\n",
       "       0.03590279, 0.93829126, 0.76651245, 0.91614583, 0.36227554,\n",
       "       0.99180083, 0.68095386, 0.0628762 , 0.10304416])"
      ]
     },
     "execution_count": 145,
     "metadata": {},
     "output_type": "execute_result"
    }
   ],
   "source": [
    "svc_scores=svc_proba[:,1]\n",
    "svc_scores"
   ]
  },
  {
   "cell_type": "code",
   "execution_count": 146,
   "metadata": {
    "tags": []
   },
   "outputs": [
    {
     "name": "stdout",
     "output_type": "stream",
     "text": [
      "Actual Flood Values:\n",
      "[1 1 0 0 0 0 1 1 1 0 0 0 1 0 1 0 0 0 1 1 1 0 1 1]\n"
     ]
    }
   ],
   "source": [
    "y_pred=svc_classifier.predict(x_test)\n",
    "print(\"Actual Flood Values:\")\n",
    "print(y_test.values)"
   ]
  },
  {
   "cell_type": "code",
   "execution_count": 147,
   "metadata": {
    "tags": []
   },
   "outputs": [
    {
     "name": "stdout",
     "output_type": "stream",
     "text": [
      "Predicted Flood Values:\n",
      "[1 1 0 1 0 0 1 1 1 0 0 0 1 0 1 0 0 0 1 1 1 0 1 1]\n"
     ]
    }
   ],
   "source": [
    "print(\"Predicted Flood Values:\")\n",
    "print(y_pred)"
   ]
  },
  {
   "cell_type": "markdown",
   "metadata": {},
   "source": [
    "### Accuracy of our model"
   ]
  },
  {
   "cell_type": "code",
   "execution_count": 149,
   "metadata": {
    "tags": []
   },
   "outputs": [
    {
     "name": "stdout",
     "output_type": "stream",
     "text": [
      "\n",
      "accuracy score:95.833333\n",
      "recall score:100.000000\n",
      "roc score:95.833333\n",
      "[[11  1]\n",
      " [ 0 12]]\n"
     ]
    }
   ],
   "source": [
    "from sklearn.metrics import accuracy_score,recall_score,roc_auc_score,confusion_matrix\n",
    "print(\"\\naccuracy score:%f\"%(accuracy_score(y_test,y_pred)*100))\n",
    "print(\"recall score:%f\"%(recall_score(y_test,y_pred)*100))\n",
    "print(\"roc score:%f\"%(roc_auc_score(y_test,y_pred)*100))\n",
    "print(confusion_matrix(y_test,y_pred))"
   ]
  },
  {
   "cell_type": "markdown",
   "metadata": {},
   "source": [
    "# Decision Tree Classification to Predict"
   ]
  },
  {
   "cell_type": "code",
   "execution_count": 157,
   "metadata": {
    "tags": []
   },
   "outputs": [
    {
     "data": {
      "text/plain": [
       "array([0.5       , 0.58064516, 0.70967742])"
      ]
     },
     "execution_count": 157,
     "metadata": {},
     "output_type": "execute_result"
    }
   ],
   "source": [
    "from sklearn.tree import DecisionTreeClassifier\n",
    "dtc_clf=DecisionTreeClassifier()\n",
    "dtc_clf.fit(x_train,y_train)\n",
    "dtc_clf_acc=cross_val_score(dtc_clf,x_train_std,y_train,cv=3,scoring=\"accuracy\",n_jobs=-1)\n",
    "dtc_clf_acc"
   ]
  },
  {
   "cell_type": "code",
   "execution_count": 159,
   "metadata": {
    "tags": []
   },
   "outputs": [
    {
     "name": "stdout",
     "output_type": "stream",
     "text": [
      "Predicted Values:\n"
     ]
    },
    {
     "data": {
      "text/plain": [
       "array([1, 1, 0, 1, 1, 0, 1, 0, 1, 0, 0, 1, 1, 0, 1, 1, 0, 0, 1, 1, 0, 0,\n",
       "       1, 1])"
      ]
     },
     "execution_count": 159,
     "metadata": {},
     "output_type": "execute_result"
    }
   ],
   "source": [
    "print(\"Predicted Values:\")\n",
    "y_pred=dtc_clf.predict(x_test)\n",
    "y_pred"
   ]
  },
  {
   "cell_type": "code",
   "execution_count": 160,
   "metadata": {
    "tags": []
   },
   "outputs": [
    {
     "name": "stdout",
     "output_type": "stream",
     "text": [
      "Actual Values:\n",
      "[1 1 0 0 0 0 1 1 1 0 0 0 1 0 1 0 0 0 1 1 1 0 1 1]\n"
     ]
    }
   ],
   "source": [
    "print(\"Actual Values:\")\n",
    "print(y_test.values)"
   ]
  },
  {
   "cell_type": "markdown",
   "metadata": {},
   "source": [
    "### Printing the Accuracy"
   ]
  },
  {
   "cell_type": "code",
   "execution_count": 162,
   "metadata": {
    "tags": []
   },
   "outputs": [
    {
     "name": "stdout",
     "output_type": "stream",
     "text": [
      "\n",
      "accuracy score:75.000000\n",
      "recall score:83.333333\n",
      "roc score:75.000000\n",
      "[[ 8  4]\n",
      " [ 2 10]]\n"
     ]
    }
   ],
   "source": [
    "from sklearn.metrics import accuracy_score,recall_score,roc_auc_score,confusion_matrix\n",
    "print(\"\\naccuracy score:%f\"%(accuracy_score(y_test,y_pred)*100))\n",
    "print(\"recall score:%f\"%(recall_score(y_test,y_pred)*100))\n",
    "print(\"roc score:%f\"%(roc_auc_score(y_test,y_pred)*100))\n",
    "print(confusion_matrix(y_test,y_pred))"
   ]
  },
  {
   "cell_type": "markdown",
   "metadata": {},
   "source": [
    "# Random Forest Classifier to predict"
   ]
  },
  {
   "cell_type": "code",
   "execution_count": 164,
   "metadata": {
    "tags": []
   },
   "outputs": [
    {
     "data": {
      "text/html": [
       "<style>#sk-container-id-2 {color: black;}#sk-container-id-2 pre{padding: 0;}#sk-container-id-2 div.sk-toggleable {background-color: white;}#sk-container-id-2 label.sk-toggleable__label {cursor: pointer;display: block;width: 100%;margin-bottom: 0;padding: 0.3em;box-sizing: border-box;text-align: center;}#sk-container-id-2 label.sk-toggleable__label-arrow:before {content: \"▸\";float: left;margin-right: 0.25em;color: #696969;}#sk-container-id-2 label.sk-toggleable__label-arrow:hover:before {color: black;}#sk-container-id-2 div.sk-estimator:hover label.sk-toggleable__label-arrow:before {color: black;}#sk-container-id-2 div.sk-toggleable__content {max-height: 0;max-width: 0;overflow: hidden;text-align: left;background-color: #f0f8ff;}#sk-container-id-2 div.sk-toggleable__content pre {margin: 0.2em;color: black;border-radius: 0.25em;background-color: #f0f8ff;}#sk-container-id-2 input.sk-toggleable__control:checked~div.sk-toggleable__content {max-height: 200px;max-width: 100%;overflow: auto;}#sk-container-id-2 input.sk-toggleable__control:checked~label.sk-toggleable__label-arrow:before {content: \"▾\";}#sk-container-id-2 div.sk-estimator input.sk-toggleable__control:checked~label.sk-toggleable__label {background-color: #d4ebff;}#sk-container-id-2 div.sk-label input.sk-toggleable__control:checked~label.sk-toggleable__label {background-color: #d4ebff;}#sk-container-id-2 input.sk-hidden--visually {border: 0;clip: rect(1px 1px 1px 1px);clip: rect(1px, 1px, 1px, 1px);height: 1px;margin: -1px;overflow: hidden;padding: 0;position: absolute;width: 1px;}#sk-container-id-2 div.sk-estimator {font-family: monospace;background-color: #f0f8ff;border: 1px dotted black;border-radius: 0.25em;box-sizing: border-box;margin-bottom: 0.5em;}#sk-container-id-2 div.sk-estimator:hover {background-color: #d4ebff;}#sk-container-id-2 div.sk-parallel-item::after {content: \"\";width: 100%;border-bottom: 1px solid gray;flex-grow: 1;}#sk-container-id-2 div.sk-label:hover label.sk-toggleable__label {background-color: #d4ebff;}#sk-container-id-2 div.sk-serial::before {content: \"\";position: absolute;border-left: 1px solid gray;box-sizing: border-box;top: 0;bottom: 0;left: 50%;z-index: 0;}#sk-container-id-2 div.sk-serial {display: flex;flex-direction: column;align-items: center;background-color: white;padding-right: 0.2em;padding-left: 0.2em;position: relative;}#sk-container-id-2 div.sk-item {position: relative;z-index: 1;}#sk-container-id-2 div.sk-parallel {display: flex;align-items: stretch;justify-content: center;background-color: white;position: relative;}#sk-container-id-2 div.sk-item::before, #sk-container-id-2 div.sk-parallel-item::before {content: \"\";position: absolute;border-left: 1px solid gray;box-sizing: border-box;top: 0;bottom: 0;left: 50%;z-index: -1;}#sk-container-id-2 div.sk-parallel-item {display: flex;flex-direction: column;z-index: 1;position: relative;background-color: white;}#sk-container-id-2 div.sk-parallel-item:first-child::after {align-self: flex-end;width: 50%;}#sk-container-id-2 div.sk-parallel-item:last-child::after {align-self: flex-start;width: 50%;}#sk-container-id-2 div.sk-parallel-item:only-child::after {width: 0;}#sk-container-id-2 div.sk-dashed-wrapped {border: 1px dashed gray;margin: 0 0.4em 0.5em 0.4em;box-sizing: border-box;padding-bottom: 0.4em;background-color: white;}#sk-container-id-2 div.sk-label label {font-family: monospace;font-weight: bold;display: inline-block;line-height: 1.2em;}#sk-container-id-2 div.sk-label-container {text-align: center;}#sk-container-id-2 div.sk-container {/* jupyter's `normalize.less` sets `[hidden] { display: none; }` but bootstrap.min.css set `[hidden] { display: none !important; }` so we also need the `!important` here to be able to override the default hidden behavior on the sphinx rendered scikit-learn.org. See: https://github.com/scikit-learn/scikit-learn/issues/21755 */display: inline-block !important;position: relative;}#sk-container-id-2 div.sk-text-repr-fallback {display: none;}</style><div id=\"sk-container-id-2\" class=\"sk-top-container\"><div class=\"sk-text-repr-fallback\"><pre>RandomForestClassifier(max_depth=3, random_state=0)</pre><b>In a Jupyter environment, please rerun this cell to show the HTML representation or trust the notebook. <br />On GitHub, the HTML representation is unable to render, please try loading this page with nbviewer.org.</b></div><div class=\"sk-container\" hidden><div class=\"sk-item\"><div class=\"sk-estimator sk-toggleable\"><input class=\"sk-toggleable__control sk-hidden--visually\" id=\"sk-estimator-id-2\" type=\"checkbox\" checked><label for=\"sk-estimator-id-2\" class=\"sk-toggleable__label sk-toggleable__label-arrow\">RandomForestClassifier</label><div class=\"sk-toggleable__content\"><pre>RandomForestClassifier(max_depth=3, random_state=0)</pre></div></div></div></div></div>"
      ],
      "text/plain": [
       "RandomForestClassifier(max_depth=3, random_state=0)"
      ]
     },
     "execution_count": 164,
     "metadata": {},
     "output_type": "execute_result"
    }
   ],
   "source": [
    "from sklearn.ensemble import RandomForestClassifier\n",
    "rmf=RandomForestClassifier(max_depth=3,random_state=0)\n",
    "rmf_clf=rmf.fit(x_train,y_train)\n",
    "rmf_clf"
   ]
  },
  {
   "cell_type": "code",
   "execution_count": 165,
   "metadata": {
    "tags": []
   },
   "outputs": [],
   "source": [
    "rmf_clf_acc=cross_val_score(rmf_clf,x_train_std,y_train,cv=3,scoring=\"accuracy\",n_jobs=-1)\n",
    "rmf_proba=cross_val_predict(rmf_clf,x_train_std,y_train,cv=3,method='predict_proba')"
   ]
  },
  {
   "cell_type": "code",
   "execution_count": 166,
   "metadata": {
    "tags": []
   },
   "outputs": [
    {
     "data": {
      "text/plain": [
       "array([0.75      , 0.70967742, 0.90322581])"
      ]
     },
     "execution_count": 166,
     "metadata": {},
     "output_type": "execute_result"
    }
   ],
   "source": [
    "rmf_clf_acc"
   ]
  },
  {
   "cell_type": "code",
   "execution_count": 167,
   "metadata": {
    "tags": []
   },
   "outputs": [
    {
     "data": {
      "text/plain": [
       "array([[0.37214832, 0.62785168],\n",
       "       [0.75743796, 0.24256204],\n",
       "       [0.64275521, 0.35724479],\n",
       "       [0.73623604, 0.26376396],\n",
       "       [0.78907524, 0.21092476],\n",
       "       [0.42287426, 0.57712574],\n",
       "       [0.36673684, 0.63326316],\n",
       "       [0.47011258, 0.52988742],\n",
       "       [0.1496133 , 0.8503867 ],\n",
       "       [0.597191  , 0.402809  ],\n",
       "       [0.49937791, 0.50062209],\n",
       "       [0.43035361, 0.56964639],\n",
       "       [0.36668667, 0.63331333],\n",
       "       [0.65824925, 0.34175075],\n",
       "       [0.58206007, 0.41793993],\n",
       "       [0.91975857, 0.08024143],\n",
       "       [0.78423755, 0.21576245],\n",
       "       [0.3026724 , 0.6973276 ],\n",
       "       [0.76270638, 0.23729362],\n",
       "       [0.35424243, 0.64575757],\n",
       "       [0.61785053, 0.38214947],\n",
       "       [0.31991875, 0.68008125],\n",
       "       [0.29559802, 0.70440198],\n",
       "       [0.5943682 , 0.4056318 ],\n",
       "       [0.436367  , 0.563633  ],\n",
       "       [0.53142434, 0.46857566],\n",
       "       [0.35036824, 0.64963176],\n",
       "       [0.51309717, 0.48690283],\n",
       "       [0.48893512, 0.51106488],\n",
       "       [0.23326384, 0.76673616],\n",
       "       [0.80000704, 0.19999296],\n",
       "       [0.43960505, 0.56039495],\n",
       "       [0.44889412, 0.55110588],\n",
       "       [0.68524521, 0.31475479],\n",
       "       [0.49806664, 0.50193336],\n",
       "       [0.40629947, 0.59370053],\n",
       "       [0.53047705, 0.46952295],\n",
       "       [0.55563805, 0.44436195],\n",
       "       [0.26618082, 0.73381918],\n",
       "       [0.4087811 , 0.5912189 ],\n",
       "       [0.68841421, 0.31158579],\n",
       "       [0.47158329, 0.52841671],\n",
       "       [0.56624017, 0.43375983],\n",
       "       [0.47022342, 0.52977658],\n",
       "       [0.36218889, 0.63781111],\n",
       "       [0.4412888 , 0.5587112 ],\n",
       "       [0.53589964, 0.46410036],\n",
       "       [0.34770258, 0.65229742],\n",
       "       [0.40973672, 0.59026328],\n",
       "       [0.82922084, 0.17077916],\n",
       "       [0.41569346, 0.58430654],\n",
       "       [0.59563437, 0.40436563],\n",
       "       [0.34382943, 0.65617057],\n",
       "       [0.37127809, 0.62872191],\n",
       "       [0.40164486, 0.59835514],\n",
       "       [0.41163413, 0.58836587],\n",
       "       [0.30170786, 0.69829214],\n",
       "       [0.43855291, 0.56144709],\n",
       "       [0.8698249 , 0.1301751 ],\n",
       "       [0.6641624 , 0.3358376 ],\n",
       "       [0.61392459, 0.38607541],\n",
       "       [0.27727396, 0.72272604],\n",
       "       [0.4791332 , 0.5208668 ],\n",
       "       [0.35288875, 0.64711125],\n",
       "       [0.50771861, 0.49228139],\n",
       "       [0.22641278, 0.77358722],\n",
       "       [0.63837125, 0.36162875],\n",
       "       [0.62527537, 0.37472463],\n",
       "       [0.43896287, 0.56103713],\n",
       "       [0.41300348, 0.58699652],\n",
       "       [0.4214625 , 0.5785375 ],\n",
       "       [0.44412824, 0.55587176],\n",
       "       [0.70945728, 0.29054272],\n",
       "       [0.50453542, 0.49546458],\n",
       "       [0.358745  , 0.641255  ],\n",
       "       [0.67651865, 0.32348135],\n",
       "       [0.48704497, 0.51295503],\n",
       "       [0.52573935, 0.47426065],\n",
       "       [0.4519505 , 0.5480495 ],\n",
       "       [0.30288818, 0.69711182],\n",
       "       [0.43322389, 0.56677611],\n",
       "       [0.22004008, 0.77995992],\n",
       "       [0.82156282, 0.17843718],\n",
       "       [0.32950552, 0.67049448],\n",
       "       [0.80440216, 0.19559784],\n",
       "       [0.70035876, 0.29964124],\n",
       "       [0.48005227, 0.51994773],\n",
       "       [0.46775144, 0.53224856],\n",
       "       [0.22156528, 0.77843472],\n",
       "       [0.52957361, 0.47042639],\n",
       "       [0.18168551, 0.81831449],\n",
       "       [0.66555898, 0.33444102],\n",
       "       [0.77759587, 0.22240413],\n",
       "       [0.50453725, 0.49546275]])"
      ]
     },
     "execution_count": 167,
     "metadata": {},
     "output_type": "execute_result"
    }
   ],
   "source": [
    "rmf_proba"
   ]
  },
  {
   "cell_type": "code",
   "execution_count": 168,
   "metadata": {
    "tags": []
   },
   "outputs": [
    {
     "name": "stdout",
     "output_type": "stream",
     "text": [
      "\n",
      "accuracy score:75.000000\n",
      "recall score:83.333333\n",
      "roc score:75.000000\n",
      "[[ 8  4]\n",
      " [ 2 10]]\n"
     ]
    }
   ],
   "source": [
    "from sklearn.metrics import accuracy_score,recall_score,roc_auc_score,confusion_matrix\n",
    "print(\"\\naccuracy score:%f\"%(accuracy_score(y_test,y_pred)*100))\n",
    "print(\"recall score:%f\"%(recall_score(y_test,y_pred)*100))\n",
    "print(\"roc score:%f\"%(roc_auc_score(y_test,y_pred)*100))\n",
    "print(confusion_matrix(y_test,y_pred))"
   ]
  },
  {
   "cell_type": "markdown",
   "metadata": {},
   "source": [
    "# Final Accuracy of our Models "
   ]
  },
  {
   "cell_type": "markdown",
   "metadata": {},
   "source": [
    "### Comparing all the prediction models"
   ]
  },
  {
   "cell_type": "code",
   "execution_count": 171,
   "metadata": {
    "tags": []
   },
   "outputs": [
    {
     "data": {
      "text/html": [
       "<div>\n",
       "<style scoped>\n",
       "    .dataframe tbody tr th:only-of-type {\n",
       "        vertical-align: middle;\n",
       "    }\n",
       "\n",
       "    .dataframe tbody tr th {\n",
       "        vertical-align: top;\n",
       "    }\n",
       "\n",
       "    .dataframe thead th {\n",
       "        text-align: right;\n",
       "    }\n",
       "</style>\n",
       "<table border=\"1\" class=\"dataframe\">\n",
       "  <thead>\n",
       "    <tr style=\"text-align: right;\">\n",
       "      <th></th>\n",
       "      <th>Name</th>\n",
       "      <th>Score</th>\n",
       "    </tr>\n",
       "  </thead>\n",
       "  <tbody>\n",
       "    <tr>\n",
       "      <th>0</th>\n",
       "      <td>KNN</td>\n",
       "      <td>0.833333</td>\n",
       "    </tr>\n",
       "    <tr>\n",
       "      <th>1</th>\n",
       "      <td>LR</td>\n",
       "      <td>0.916667</td>\n",
       "    </tr>\n",
       "    <tr>\n",
       "      <th>2</th>\n",
       "      <td>SVC</td>\n",
       "      <td>0.958333</td>\n",
       "    </tr>\n",
       "    <tr>\n",
       "      <th>3</th>\n",
       "      <td>DT</td>\n",
       "      <td>0.750000</td>\n",
       "    </tr>\n",
       "    <tr>\n",
       "      <th>4</th>\n",
       "      <td>RF</td>\n",
       "      <td>0.708333</td>\n",
       "    </tr>\n",
       "  </tbody>\n",
       "</table>\n",
       "</div>"
      ],
      "text/plain": [
       "  Name     Score\n",
       "0  KNN  0.833333\n",
       "1   LR  0.916667\n",
       "2  SVC  0.958333\n",
       "3   DT  0.750000\n",
       "4   RF  0.708333"
      ]
     },
     "execution_count": 171,
     "metadata": {},
     "output_type": "execute_result"
    }
   ],
   "source": [
    "models = []\n",
    "from sklearn.neighbors import KNeighborsClassifier\n",
    "from sklearn.svm import SVC\n",
    "from sklearn.linear_model import LogisticRegression\n",
    "from sklearn.tree import DecisionTreeClassifier\n",
    "from sklearn.naive_bayes import GaussianNB\n",
    "from sklearn.ensemble import RandomForestClassifier\n",
    "from sklearn.ensemble import GradientBoostingClassifier\n",
    "models.append(('KNN', KNeighborsClassifier()))\n",
    "models.append(('LR', LogisticRegression()))\n",
    "models.append(('SVC', SVC()))\n",
    "models.append(('DT', DecisionTreeClassifier()))\n",
    "models.append(('RF', RandomForestClassifier()))\n",
    "\n",
    "names = []\n",
    "scores = []\n",
    "for name, model in models:\n",
    "    model.fit(x_train, y_train)\n",
    "    y_pred = model.predict(x_test)\n",
    "    scores.append(accuracy_score(y_test, y_pred))\n",
    "    names.append(name)\n",
    "tr_split = pd.DataFrame({'Name': names, 'Score': scores})\n",
    "tr_split"
   ]
  },
  {
   "cell_type": "code",
   "execution_count": 172,
   "metadata": {
    "tags": []
   },
   "outputs": [
    {
     "data": {
      "image/png": "[encoded data removed]",
      "text/plain": [
       "<Figure size 640x480 with 1 Axes>"
      ]
     },
     "metadata": {},
     "output_type": "display_data"
    }
   ],
   "source": [
    "import seaborn as sns\n",
    "axis = sns.barplot(x = 'Name', y = 'Score', data =tr_split )\n",
    "axis.set(xlabel='Classifier Models', ylabel='Accuracy of the Model')\n",
    "for p in axis.patches:\n",
    "    height = p.get_height()\n",
    "    axis.text(p.get_x() + p.get_width()/2, height + 0.01, '{:1.4f}'.format(height), ha=\"center\") \n",
    "    \n",
    "plt.show()"
   ]
  },
  {
   "cell_type": "code",
   "execution_count": 173,
   "metadata": {
    "tags": []
   },
   "outputs": [
    {
     "data": {
      "text/plain": [
       "0.9583333333333334"
      ]
     },
     "execution_count": 173,
     "metadata": {},
     "output_type": "execute_result"
    }
   ],
   "source": [
    "tr_split['Score'].max() "
   ]
  },
  {
   "cell_type": "markdown",
   "metadata": {},
   "source": [
    "### So we can see and choose the best model for Prediction."
   ]
  },
  {
   "cell_type": "markdown",
   "metadata": {},
   "source": [
    "# End of the Code."
   ]
  }
 ],
 "metadata": {
  "kernelspec": {
   "display_name": "Python 3 (ipykernel)",
   "language": "python",
   "name": "python3"
  },
  "language_info": {
   "codemirror_mode": {
    "name": "ipython",
    "version": 3
   },
   "file_extension": ".py",
   "mimetype": "text/x-python",
   "name": "python",
   "nbconvert_exporter": "python",
   "pygments_lexer": "ipython3",
   "version": "3.11.5"
  },
  "widgets": {
   "application/vnd.jupyter.widget-state+json": {
    "state": {},
    "version_major": 2,
    "version_minor": 0
   }
  }
 },
 "nbformat": 4,
 "nbformat_minor": 4
}
